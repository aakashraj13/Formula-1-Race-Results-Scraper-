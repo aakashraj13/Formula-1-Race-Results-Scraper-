{
 "cells": [
  {
   "cell_type": "code",
   "execution_count": 1,
   "id": "703eeb3f-8ebe-403d-943a-056960372269",
   "metadata": {},
   "outputs": [
    {
     "name": "stdout",
     "output_type": "stream",
     "text": [
      "Requirement already satisfied: BeautifulSoup4 in c:\\users\\aakash\\anaconda3\\lib\\site-packages (4.12.2)\n",
      "Requirement already satisfied: soupsieve>1.2 in c:\\users\\aakash\\anaconda3\\lib\\site-packages (from BeautifulSoup4) (2.5)\n"
     ]
    }
   ],
   "source": [
    "!pip install BeautifulSoup4"
   ]
  },
  {
   "cell_type": "code",
   "execution_count": 2,
   "id": "1e9b275e-992c-47d3-91be-a2dae8c87f09",
   "metadata": {},
   "outputs": [],
   "source": [
    "from bs4 import BeautifulSoup\n",
    "import requests"
   ]
  },
  {
   "cell_type": "code",
   "execution_count": 3,
   "id": "812d7974-265d-4021-9f6f-0e868729fa95",
   "metadata": {},
   "outputs": [],
   "source": [
    "url = 'https://www.formula1.com/en/results/2024/races'\n"
   ]
  },
  {
   "cell_type": "code",
   "execution_count": 6,
   "id": "0396fa67-5f77-4b69-bad0-d1bb57d13e51",
   "metadata": {},
   "outputs": [],
   "source": [
    "pages = requests.get(url)"
   ]
  },
  {
   "cell_type": "code",
   "execution_count": 8,
   "id": "455b8543-8b99-43c3-8520-2b250548a90b",
   "metadata": {},
   "outputs": [],
   "source": [
    "soup = BeautifulSoup(pages.text , 'html')"
   ]
  },
  {
   "cell_type": "code",
   "execution_count": 26,
   "id": "ca68da3c-310d-4b1e-962d-92d6bd00cf19",
   "metadata": {},
   "outputs": [
    {
     "data": {
      "text/plain": [
       "[<p class=\"f1-text font-titillium tracking-normal font-bold non-italic uppercase leading-snug f1-text__micro text-fs-15px\">Grand Prix</p>,\n",
       " <p class=\"f1-text font-titillium tracking-normal font-bold non-italic uppercase leading-snug f1-text__micro text-fs-15px\">Date</p>,\n",
       " <p class=\"f1-text font-titillium tracking-normal font-bold non-italic uppercase leading-snug f1-text__micro text-fs-15px\">Winner</p>,\n",
       " <p class=\"f1-text font-titillium tracking-normal font-bold non-italic uppercase leading-snug f1-text__micro text-fs-15px\">Car</p>,\n",
       " <p class=\"f1-text font-titillium tracking-normal font-bold non-italic uppercase leading-snug f1-text__micro text-fs-15px\">Laps</p>,\n",
       " <p class=\"f1-text font-titillium tracking-normal font-bold non-italic uppercase leading-snug f1-text__micro text-fs-15px\">Time</p>]"
      ]
     },
     "execution_count": 26,
     "metadata": {},
     "output_type": "execute_result"
    }
   ],
   "source": [
    "table_header = soup.find_all('p', class_ = 'f1-text font-titillium tracking-normal font-bold non-italic uppercase leading-snug f1-text__micro text-fs-15px')\n",
    "table_header"
   ]
  },
  {
   "cell_type": "code",
   "execution_count": 27,
   "id": "71e4b833-0ddc-4345-be20-aea83207e1b8",
   "metadata": {},
   "outputs": [
    {
     "name": "stdout",
     "output_type": "stream",
     "text": [
      "['Grand Prix', 'Date', 'Winner', 'Car', 'Laps', 'Time']\n"
     ]
    }
   ],
   "source": [
    "header = [title.text.strip() for title in table_header]\n",
    "print(header)"
   ]
  },
  {
   "cell_type": "code",
   "execution_count": 28,
   "id": "4e2bdc1f-493e-4661-94fc-089af15a9d9c",
   "metadata": {},
   "outputs": [],
   "source": [
    "import pandas as pd"
   ]
  },
  {
   "cell_type": "code",
   "execution_count": 30,
   "id": "58e1c9f7-be4e-4516-ba85-36f49b25a26f",
   "metadata": {},
   "outputs": [
    {
     "data": {
      "text/html": [
       "<div>\n",
       "<style scoped>\n",
       "    .dataframe tbody tr th:only-of-type {\n",
       "        vertical-align: middle;\n",
       "    }\n",
       "\n",
       "    .dataframe tbody tr th {\n",
       "        vertical-align: top;\n",
       "    }\n",
       "\n",
       "    .dataframe thead th {\n",
       "        text-align: right;\n",
       "    }\n",
       "</style>\n",
       "<table border=\"1\" class=\"dataframe\">\n",
       "  <thead>\n",
       "    <tr style=\"text-align: right;\">\n",
       "      <th></th>\n",
       "      <th>Grand Prix</th>\n",
       "      <th>Date</th>\n",
       "      <th>Winner</th>\n",
       "      <th>Car</th>\n",
       "      <th>Laps</th>\n",
       "      <th>Time</th>\n",
       "    </tr>\n",
       "  </thead>\n",
       "  <tbody>\n",
       "  </tbody>\n",
       "</table>\n",
       "</div>"
      ],
      "text/plain": [
       "Empty DataFrame\n",
       "Columns: [Grand Prix, Date, Winner, Car, Laps, Time]\n",
       "Index: []"
      ]
     },
     "execution_count": 30,
     "metadata": {},
     "output_type": "execute_result"
    }
   ],
   "source": [
    "df = pd.DataFrame(columns = header)\n",
    "df"
   ]
  },
  {
   "cell_type": "code",
   "execution_count": 34,
   "id": "75c4f4d5-34f3-4e0d-9f14-e78aa9e07ea1",
   "metadata": {},
   "outputs": [
    {
     "data": {
      "text/plain": [
       "[<tbody><tr class=\"bg-brand-white\"><td class=\"p-normal whitespace-nowrap\"><p class=\"f1-text font-titillium tracking-normal font-normal non-italic normal-case leading-none f1-text__micro text-fs-15px\"><a class=\"underline underline-offset-normal decoration-1 decoration-greyLight hover:decoration-brand-primary\" href=\"races/1229/bahrain/race-result\">Bahrain</a></p></td><td class=\"p-normal default:max-mobile:collapse default:max-mobile:max-w-0 default:max-mobile:hidden mobile:max-tablet:collapse mobile:max-tablet:max-w-0 mobile:max-tablet:hidden whitespace-nowrap\"><p class=\"f1-text font-titillium tracking-normal font-normal non-italic normal-case leading-none f1-text__micro text-fs-15px\">02 Mar 2024</p></td><td class=\"p-normal whitespace-nowrap\"><p class=\"f1-text font-titillium tracking-normal font-normal non-italic normal-case leading-none f1-text__micro text-fs-15px\"><span class=\"max-desktop:hidden\">Max</span> <span class=\"max-tablet:hidden\">Verstappen</span><span class=\"tablet:hidden\">VER</span></p></td><td class=\"p-normal whitespace-nowrap\"><p class=\"f1-text font-titillium tracking-normal font-normal non-italic normal-case leading-none f1-text__micro text-fs-15px\">Red Bull Racing Honda RBPT</p></td><td class=\"p-normal default:max-mobile:collapse default:max-mobile:max-w-0 default:max-mobile:hidden mobile:max-tablet:collapse mobile:max-tablet:max-w-0 mobile:max-tablet:hidden whitespace-nowrap\"><p class=\"f1-text font-titillium tracking-normal font-normal non-italic normal-case leading-none f1-text__micro text-fs-15px\">57</p></td><td class=\"p-normal default:max-mobile:collapse default:max-mobile:max-w-0 default:max-mobile:hidden mobile:max-tablet:collapse mobile:max-tablet:max-w-0 mobile:max-tablet:hidden tablet:max-laptop:collapse tablet:max-laptop:max-w-0 tablet:max-laptop:hidden whitespace-nowrap\"><p class=\"f1-text font-titillium tracking-normal font-normal non-italic normal-case leading-none f1-text__micro text-fs-15px\">1:31:44.742</p></td></tr><tr class=\"bg-grey-10\"><td class=\"p-normal whitespace-nowrap\"><p class=\"f1-text font-titillium tracking-normal font-normal non-italic normal-case leading-none f1-text__micro text-fs-15px\"><a class=\"underline underline-offset-normal decoration-1 decoration-greyLight hover:decoration-brand-primary\" href=\"races/1230/saudi-arabia/race-result\">Saudi Arabia</a></p></td><td class=\"p-normal default:max-mobile:collapse default:max-mobile:max-w-0 default:max-mobile:hidden mobile:max-tablet:collapse mobile:max-tablet:max-w-0 mobile:max-tablet:hidden whitespace-nowrap\"><p class=\"f1-text font-titillium tracking-normal font-normal non-italic normal-case leading-none f1-text__micro text-fs-15px\">09 Mar 2024</p></td><td class=\"p-normal whitespace-nowrap\"><p class=\"f1-text font-titillium tracking-normal font-normal non-italic normal-case leading-none f1-text__micro text-fs-15px\"><span class=\"max-desktop:hidden\">Max</span> <span class=\"max-tablet:hidden\">Verstappen</span><span class=\"tablet:hidden\">VER</span></p></td><td class=\"p-normal whitespace-nowrap\"><p class=\"f1-text font-titillium tracking-normal font-normal non-italic normal-case leading-none f1-text__micro text-fs-15px\">Red Bull Racing Honda RBPT</p></td><td class=\"p-normal default:max-mobile:collapse default:max-mobile:max-w-0 default:max-mobile:hidden mobile:max-tablet:collapse mobile:max-tablet:max-w-0 mobile:max-tablet:hidden whitespace-nowrap\"><p class=\"f1-text font-titillium tracking-normal font-normal non-italic normal-case leading-none f1-text__micro text-fs-15px\">50</p></td><td class=\"p-normal default:max-mobile:collapse default:max-mobile:max-w-0 default:max-mobile:hidden mobile:max-tablet:collapse mobile:max-tablet:max-w-0 mobile:max-tablet:hidden tablet:max-laptop:collapse tablet:max-laptop:max-w-0 tablet:max-laptop:hidden whitespace-nowrap\"><p class=\"f1-text font-titillium tracking-normal font-normal non-italic normal-case leading-none f1-text__micro text-fs-15px\">1:20:43.273</p></td></tr><tr class=\"bg-brand-white\"><td class=\"p-normal whitespace-nowrap\"><p class=\"f1-text font-titillium tracking-normal font-normal non-italic normal-case leading-none f1-text__micro text-fs-15px\"><a class=\"underline underline-offset-normal decoration-1 decoration-greyLight hover:decoration-brand-primary\" href=\"races/1231/australia/race-result\">Australia</a></p></td><td class=\"p-normal default:max-mobile:collapse default:max-mobile:max-w-0 default:max-mobile:hidden mobile:max-tablet:collapse mobile:max-tablet:max-w-0 mobile:max-tablet:hidden whitespace-nowrap\"><p class=\"f1-text font-titillium tracking-normal font-normal non-italic normal-case leading-none f1-text__micro text-fs-15px\">24 Mar 2024</p></td><td class=\"p-normal whitespace-nowrap\"><p class=\"f1-text font-titillium tracking-normal font-normal non-italic normal-case leading-none f1-text__micro text-fs-15px\"><span class=\"max-desktop:hidden\">Carlos</span> <span class=\"max-tablet:hidden\">Sainz</span><span class=\"tablet:hidden\">SAI</span></p></td><td class=\"p-normal whitespace-nowrap\"><p class=\"f1-text font-titillium tracking-normal font-normal non-italic normal-case leading-none f1-text__micro text-fs-15px\">Ferrari</p></td><td class=\"p-normal default:max-mobile:collapse default:max-mobile:max-w-0 default:max-mobile:hidden mobile:max-tablet:collapse mobile:max-tablet:max-w-0 mobile:max-tablet:hidden whitespace-nowrap\"><p class=\"f1-text font-titillium tracking-normal font-normal non-italic normal-case leading-none f1-text__micro text-fs-15px\">58</p></td><td class=\"p-normal default:max-mobile:collapse default:max-mobile:max-w-0 default:max-mobile:hidden mobile:max-tablet:collapse mobile:max-tablet:max-w-0 mobile:max-tablet:hidden tablet:max-laptop:collapse tablet:max-laptop:max-w-0 tablet:max-laptop:hidden whitespace-nowrap\"><p class=\"f1-text font-titillium tracking-normal font-normal non-italic normal-case leading-none f1-text__micro text-fs-15px\">1:20:26.843</p></td></tr><tr class=\"bg-grey-10\"><td class=\"p-normal whitespace-nowrap\"><p class=\"f1-text font-titillium tracking-normal font-normal non-italic normal-case leading-none f1-text__micro text-fs-15px\"><a class=\"underline underline-offset-normal decoration-1 decoration-greyLight hover:decoration-brand-primary\" href=\"races/1232/japan/race-result\">Japan</a></p></td><td class=\"p-normal default:max-mobile:collapse default:max-mobile:max-w-0 default:max-mobile:hidden mobile:max-tablet:collapse mobile:max-tablet:max-w-0 mobile:max-tablet:hidden whitespace-nowrap\"><p class=\"f1-text font-titillium tracking-normal font-normal non-italic normal-case leading-none f1-text__micro text-fs-15px\">07 Apr 2024</p></td><td class=\"p-normal whitespace-nowrap\"><p class=\"f1-text font-titillium tracking-normal font-normal non-italic normal-case leading-none f1-text__micro text-fs-15px\"><span class=\"max-desktop:hidden\">Max</span> <span class=\"max-tablet:hidden\">Verstappen</span><span class=\"tablet:hidden\">VER</span></p></td><td class=\"p-normal whitespace-nowrap\"><p class=\"f1-text font-titillium tracking-normal font-normal non-italic normal-case leading-none f1-text__micro text-fs-15px\">Red Bull Racing Honda RBPT</p></td><td class=\"p-normal default:max-mobile:collapse default:max-mobile:max-w-0 default:max-mobile:hidden mobile:max-tablet:collapse mobile:max-tablet:max-w-0 mobile:max-tablet:hidden whitespace-nowrap\"><p class=\"f1-text font-titillium tracking-normal font-normal non-italic normal-case leading-none f1-text__micro text-fs-15px\">53</p></td><td class=\"p-normal default:max-mobile:collapse default:max-mobile:max-w-0 default:max-mobile:hidden mobile:max-tablet:collapse mobile:max-tablet:max-w-0 mobile:max-tablet:hidden tablet:max-laptop:collapse tablet:max-laptop:max-w-0 tablet:max-laptop:hidden whitespace-nowrap\"><p class=\"f1-text font-titillium tracking-normal font-normal non-italic normal-case leading-none f1-text__micro text-fs-15px\">1:54:23.566</p></td></tr><tr class=\"bg-brand-white\"><td class=\"p-normal whitespace-nowrap\"><p class=\"f1-text font-titillium tracking-normal font-normal non-italic normal-case leading-none f1-text__micro text-fs-15px\"><a class=\"underline underline-offset-normal decoration-1 decoration-greyLight hover:decoration-brand-primary\" href=\"races/1233/china/race-result\">China</a></p></td><td class=\"p-normal default:max-mobile:collapse default:max-mobile:max-w-0 default:max-mobile:hidden mobile:max-tablet:collapse mobile:max-tablet:max-w-0 mobile:max-tablet:hidden whitespace-nowrap\"><p class=\"f1-text font-titillium tracking-normal font-normal non-italic normal-case leading-none f1-text__micro text-fs-15px\">21 Apr 2024</p></td><td class=\"p-normal whitespace-nowrap\"><p class=\"f1-text font-titillium tracking-normal font-normal non-italic normal-case leading-none f1-text__micro text-fs-15px\"><span class=\"max-desktop:hidden\">Max</span> <span class=\"max-tablet:hidden\">Verstappen</span><span class=\"tablet:hidden\">VER</span></p></td><td class=\"p-normal whitespace-nowrap\"><p class=\"f1-text font-titillium tracking-normal font-normal non-italic normal-case leading-none f1-text__micro text-fs-15px\">Red Bull Racing Honda RBPT</p></td><td class=\"p-normal default:max-mobile:collapse default:max-mobile:max-w-0 default:max-mobile:hidden mobile:max-tablet:collapse mobile:max-tablet:max-w-0 mobile:max-tablet:hidden whitespace-nowrap\"><p class=\"f1-text font-titillium tracking-normal font-normal non-italic normal-case leading-none f1-text__micro text-fs-15px\">56</p></td><td class=\"p-normal default:max-mobile:collapse default:max-mobile:max-w-0 default:max-mobile:hidden mobile:max-tablet:collapse mobile:max-tablet:max-w-0 mobile:max-tablet:hidden tablet:max-laptop:collapse tablet:max-laptop:max-w-0 tablet:max-laptop:hidden whitespace-nowrap\"><p class=\"f1-text font-titillium tracking-normal font-normal non-italic normal-case leading-none f1-text__micro text-fs-15px\">1:40:52.554</p></td></tr><tr class=\"bg-grey-10\"><td class=\"p-normal whitespace-nowrap\"><p class=\"f1-text font-titillium tracking-normal font-normal non-italic normal-case leading-none f1-text__micro text-fs-15px\"><a class=\"underline underline-offset-normal decoration-1 decoration-greyLight hover:decoration-brand-primary\" href=\"races/1234/miami/race-result\">Miami</a></p></td><td class=\"p-normal default:max-mobile:collapse default:max-mobile:max-w-0 default:max-mobile:hidden mobile:max-tablet:collapse mobile:max-tablet:max-w-0 mobile:max-tablet:hidden whitespace-nowrap\"><p class=\"f1-text font-titillium tracking-normal font-normal non-italic normal-case leading-none f1-text__micro text-fs-15px\">05 May 2024</p></td><td class=\"p-normal whitespace-nowrap\"><p class=\"f1-text font-titillium tracking-normal font-normal non-italic normal-case leading-none f1-text__micro text-fs-15px\"><span class=\"max-desktop:hidden\">Lando</span> <span class=\"max-tablet:hidden\">Norris</span><span class=\"tablet:hidden\">NOR</span></p></td><td class=\"p-normal whitespace-nowrap\"><p class=\"f1-text font-titillium tracking-normal font-normal non-italic normal-case leading-none f1-text__micro text-fs-15px\">McLaren Mercedes</p></td><td class=\"p-normal default:max-mobile:collapse default:max-mobile:max-w-0 default:max-mobile:hidden mobile:max-tablet:collapse mobile:max-tablet:max-w-0 mobile:max-tablet:hidden whitespace-nowrap\"><p class=\"f1-text font-titillium tracking-normal font-normal non-italic normal-case leading-none f1-text__micro text-fs-15px\">57</p></td><td class=\"p-normal default:max-mobile:collapse default:max-mobile:max-w-0 default:max-mobile:hidden mobile:max-tablet:collapse mobile:max-tablet:max-w-0 mobile:max-tablet:hidden tablet:max-laptop:collapse tablet:max-laptop:max-w-0 tablet:max-laptop:hidden whitespace-nowrap\"><p class=\"f1-text font-titillium tracking-normal font-normal non-italic normal-case leading-none f1-text__micro text-fs-15px\">1:30:49.876</p></td></tr><tr class=\"bg-brand-white\"><td class=\"p-normal whitespace-nowrap\"><p class=\"f1-text font-titillium tracking-normal font-normal non-italic normal-case leading-none f1-text__micro text-fs-15px\"><a class=\"underline underline-offset-normal decoration-1 decoration-greyLight hover:decoration-brand-primary\" href=\"races/1235/emilia-romagna/race-result\">Emilia-Romagna</a></p></td><td class=\"p-normal default:max-mobile:collapse default:max-mobile:max-w-0 default:max-mobile:hidden mobile:max-tablet:collapse mobile:max-tablet:max-w-0 mobile:max-tablet:hidden whitespace-nowrap\"><p class=\"f1-text font-titillium tracking-normal font-normal non-italic normal-case leading-none f1-text__micro text-fs-15px\">19 May 2024</p></td><td class=\"p-normal whitespace-nowrap\"><p class=\"f1-text font-titillium tracking-normal font-normal non-italic normal-case leading-none f1-text__micro text-fs-15px\"><span class=\"max-desktop:hidden\">Max</span> <span class=\"max-tablet:hidden\">Verstappen</span><span class=\"tablet:hidden\">VER</span></p></td><td class=\"p-normal whitespace-nowrap\"><p class=\"f1-text font-titillium tracking-normal font-normal non-italic normal-case leading-none f1-text__micro text-fs-15px\">Red Bull Racing Honda RBPT</p></td><td class=\"p-normal default:max-mobile:collapse default:max-mobile:max-w-0 default:max-mobile:hidden mobile:max-tablet:collapse mobile:max-tablet:max-w-0 mobile:max-tablet:hidden whitespace-nowrap\"><p class=\"f1-text font-titillium tracking-normal font-normal non-italic normal-case leading-none f1-text__micro text-fs-15px\">63</p></td><td class=\"p-normal default:max-mobile:collapse default:max-mobile:max-w-0 default:max-mobile:hidden mobile:max-tablet:collapse mobile:max-tablet:max-w-0 mobile:max-tablet:hidden tablet:max-laptop:collapse tablet:max-laptop:max-w-0 tablet:max-laptop:hidden whitespace-nowrap\"><p class=\"f1-text font-titillium tracking-normal font-normal non-italic normal-case leading-none f1-text__micro text-fs-15px\">1:25:25.252</p></td></tr><tr class=\"bg-grey-10\"><td class=\"p-normal whitespace-nowrap\"><p class=\"f1-text font-titillium tracking-normal font-normal non-italic normal-case leading-none f1-text__micro text-fs-15px\"><a class=\"underline underline-offset-normal decoration-1 decoration-greyLight hover:decoration-brand-primary\" href=\"races/1236/monaco/race-result\">Monaco</a></p></td><td class=\"p-normal default:max-mobile:collapse default:max-mobile:max-w-0 default:max-mobile:hidden mobile:max-tablet:collapse mobile:max-tablet:max-w-0 mobile:max-tablet:hidden whitespace-nowrap\"><p class=\"f1-text font-titillium tracking-normal font-normal non-italic normal-case leading-none f1-text__micro text-fs-15px\">26 May 2024</p></td><td class=\"p-normal whitespace-nowrap\"><p class=\"f1-text font-titillium tracking-normal font-normal non-italic normal-case leading-none f1-text__micro text-fs-15px\"><span class=\"max-desktop:hidden\">Charles</span> <span class=\"max-tablet:hidden\">Leclerc</span><span class=\"tablet:hidden\">LEC</span></p></td><td class=\"p-normal whitespace-nowrap\"><p class=\"f1-text font-titillium tracking-normal font-normal non-italic normal-case leading-none f1-text__micro text-fs-15px\">Ferrari</p></td><td class=\"p-normal default:max-mobile:collapse default:max-mobile:max-w-0 default:max-mobile:hidden mobile:max-tablet:collapse mobile:max-tablet:max-w-0 mobile:max-tablet:hidden whitespace-nowrap\"><p class=\"f1-text font-titillium tracking-normal font-normal non-italic normal-case leading-none f1-text__micro text-fs-15px\">78</p></td><td class=\"p-normal default:max-mobile:collapse default:max-mobile:max-w-0 default:max-mobile:hidden mobile:max-tablet:collapse mobile:max-tablet:max-w-0 mobile:max-tablet:hidden tablet:max-laptop:collapse tablet:max-laptop:max-w-0 tablet:max-laptop:hidden whitespace-nowrap\"><p class=\"f1-text font-titillium tracking-normal font-normal non-italic normal-case leading-none f1-text__micro text-fs-15px\">2:23:15.554</p></td></tr><tr class=\"bg-brand-white\"><td class=\"p-normal whitespace-nowrap\"><p class=\"f1-text font-titillium tracking-normal font-normal non-italic normal-case leading-none f1-text__micro text-fs-15px\"><a class=\"underline underline-offset-normal decoration-1 decoration-greyLight hover:decoration-brand-primary\" href=\"races/1237/canada/race-result\">Canada</a></p></td><td class=\"p-normal default:max-mobile:collapse default:max-mobile:max-w-0 default:max-mobile:hidden mobile:max-tablet:collapse mobile:max-tablet:max-w-0 mobile:max-tablet:hidden whitespace-nowrap\"><p class=\"f1-text font-titillium tracking-normal font-normal non-italic normal-case leading-none f1-text__micro text-fs-15px\">09 Jun 2024</p></td><td class=\"p-normal whitespace-nowrap\"><p class=\"f1-text font-titillium tracking-normal font-normal non-italic normal-case leading-none f1-text__micro text-fs-15px\"><span class=\"max-desktop:hidden\">Max</span> <span class=\"max-tablet:hidden\">Verstappen</span><span class=\"tablet:hidden\">VER</span></p></td><td class=\"p-normal whitespace-nowrap\"><p class=\"f1-text font-titillium tracking-normal font-normal non-italic normal-case leading-none f1-text__micro text-fs-15px\">Red Bull Racing Honda RBPT</p></td><td class=\"p-normal default:max-mobile:collapse default:max-mobile:max-w-0 default:max-mobile:hidden mobile:max-tablet:collapse mobile:max-tablet:max-w-0 mobile:max-tablet:hidden whitespace-nowrap\"><p class=\"f1-text font-titillium tracking-normal font-normal non-italic normal-case leading-none f1-text__micro text-fs-15px\">70</p></td><td class=\"p-normal default:max-mobile:collapse default:max-mobile:max-w-0 default:max-mobile:hidden mobile:max-tablet:collapse mobile:max-tablet:max-w-0 mobile:max-tablet:hidden tablet:max-laptop:collapse tablet:max-laptop:max-w-0 tablet:max-laptop:hidden whitespace-nowrap\"><p class=\"f1-text font-titillium tracking-normal font-normal non-italic normal-case leading-none f1-text__micro text-fs-15px\">1:45:47.927</p></td></tr><tr class=\"bg-grey-10\"><td class=\"p-normal whitespace-nowrap\"><p class=\"f1-text font-titillium tracking-normal font-normal non-italic normal-case leading-none f1-text__micro text-fs-15px\"><a class=\"underline underline-offset-normal decoration-1 decoration-greyLight hover:decoration-brand-primary\" href=\"races/1238/spain/race-result\">Spain</a></p></td><td class=\"p-normal default:max-mobile:collapse default:max-mobile:max-w-0 default:max-mobile:hidden mobile:max-tablet:collapse mobile:max-tablet:max-w-0 mobile:max-tablet:hidden whitespace-nowrap\"><p class=\"f1-text font-titillium tracking-normal font-normal non-italic normal-case leading-none f1-text__micro text-fs-15px\">23 Jun 2024</p></td><td class=\"p-normal whitespace-nowrap\"><p class=\"f1-text font-titillium tracking-normal font-normal non-italic normal-case leading-none f1-text__micro text-fs-15px\"><span class=\"max-desktop:hidden\">Max</span> <span class=\"max-tablet:hidden\">Verstappen</span><span class=\"tablet:hidden\">VER</span></p></td><td class=\"p-normal whitespace-nowrap\"><p class=\"f1-text font-titillium tracking-normal font-normal non-italic normal-case leading-none f1-text__micro text-fs-15px\">Red Bull Racing Honda RBPT</p></td><td class=\"p-normal default:max-mobile:collapse default:max-mobile:max-w-0 default:max-mobile:hidden mobile:max-tablet:collapse mobile:max-tablet:max-w-0 mobile:max-tablet:hidden whitespace-nowrap\"><p class=\"f1-text font-titillium tracking-normal font-normal non-italic normal-case leading-none f1-text__micro text-fs-15px\">66</p></td><td class=\"p-normal default:max-mobile:collapse default:max-mobile:max-w-0 default:max-mobile:hidden mobile:max-tablet:collapse mobile:max-tablet:max-w-0 mobile:max-tablet:hidden tablet:max-laptop:collapse tablet:max-laptop:max-w-0 tablet:max-laptop:hidden whitespace-nowrap\"><p class=\"f1-text font-titillium tracking-normal font-normal non-italic normal-case leading-none f1-text__micro text-fs-15px\">1:28:20.227</p></td></tr><tr class=\"bg-brand-white\"><td class=\"p-normal whitespace-nowrap\"><p class=\"f1-text font-titillium tracking-normal font-normal non-italic normal-case leading-none f1-text__micro text-fs-15px\"><a class=\"underline underline-offset-normal decoration-1 decoration-greyLight hover:decoration-brand-primary\" href=\"races/1239/austria/race-result\">Austria</a></p></td><td class=\"p-normal default:max-mobile:collapse default:max-mobile:max-w-0 default:max-mobile:hidden mobile:max-tablet:collapse mobile:max-tablet:max-w-0 mobile:max-tablet:hidden whitespace-nowrap\"><p class=\"f1-text font-titillium tracking-normal font-normal non-italic normal-case leading-none f1-text__micro text-fs-15px\">30 Jun 2024</p></td><td class=\"p-normal whitespace-nowrap\"><p class=\"f1-text font-titillium tracking-normal font-normal non-italic normal-case leading-none f1-text__micro text-fs-15px\"><span class=\"max-desktop:hidden\">George</span> <span class=\"max-tablet:hidden\">Russell</span><span class=\"tablet:hidden\">RUS</span></p></td><td class=\"p-normal whitespace-nowrap\"><p class=\"f1-text font-titillium tracking-normal font-normal non-italic normal-case leading-none f1-text__micro text-fs-15px\">Mercedes</p></td><td class=\"p-normal default:max-mobile:collapse default:max-mobile:max-w-0 default:max-mobile:hidden mobile:max-tablet:collapse mobile:max-tablet:max-w-0 mobile:max-tablet:hidden whitespace-nowrap\"><p class=\"f1-text font-titillium tracking-normal font-normal non-italic normal-case leading-none f1-text__micro text-fs-15px\">71</p></td><td class=\"p-normal default:max-mobile:collapse default:max-mobile:max-w-0 default:max-mobile:hidden mobile:max-tablet:collapse mobile:max-tablet:max-w-0 mobile:max-tablet:hidden tablet:max-laptop:collapse tablet:max-laptop:max-w-0 tablet:max-laptop:hidden whitespace-nowrap\"><p class=\"f1-text font-titillium tracking-normal font-normal non-italic normal-case leading-none f1-text__micro text-fs-15px\">1:24:22.798</p></td></tr><tr class=\"bg-grey-10\"><td class=\"p-normal whitespace-nowrap\"><p class=\"f1-text font-titillium tracking-normal font-normal non-italic normal-case leading-none f1-text__micro text-fs-15px\"><a class=\"underline underline-offset-normal decoration-1 decoration-greyLight hover:decoration-brand-primary\" href=\"races/1240/great-britain/race-result\">Great Britain</a></p></td><td class=\"p-normal default:max-mobile:collapse default:max-mobile:max-w-0 default:max-mobile:hidden mobile:max-tablet:collapse mobile:max-tablet:max-w-0 mobile:max-tablet:hidden whitespace-nowrap\"><p class=\"f1-text font-titillium tracking-normal font-normal non-italic normal-case leading-none f1-text__micro text-fs-15px\">07 Jul 2024</p></td><td class=\"p-normal whitespace-nowrap\"><p class=\"f1-text font-titillium tracking-normal font-normal non-italic normal-case leading-none f1-text__micro text-fs-15px\"><span class=\"max-desktop:hidden\">Lewis</span> <span class=\"max-tablet:hidden\">Hamilton</span><span class=\"tablet:hidden\">HAM</span></p></td><td class=\"p-normal whitespace-nowrap\"><p class=\"f1-text font-titillium tracking-normal font-normal non-italic normal-case leading-none f1-text__micro text-fs-15px\">Mercedes</p></td><td class=\"p-normal default:max-mobile:collapse default:max-mobile:max-w-0 default:max-mobile:hidden mobile:max-tablet:collapse mobile:max-tablet:max-w-0 mobile:max-tablet:hidden whitespace-nowrap\"><p class=\"f1-text font-titillium tracking-normal font-normal non-italic normal-case leading-none f1-text__micro text-fs-15px\">52</p></td><td class=\"p-normal default:max-mobile:collapse default:max-mobile:max-w-0 default:max-mobile:hidden mobile:max-tablet:collapse mobile:max-tablet:max-w-0 mobile:max-tablet:hidden tablet:max-laptop:collapse tablet:max-laptop:max-w-0 tablet:max-laptop:hidden whitespace-nowrap\"><p class=\"f1-text font-titillium tracking-normal font-normal non-italic normal-case leading-none f1-text__micro text-fs-15px\">1:22:27.059</p></td></tr><tr class=\"bg-brand-white\"><td class=\"p-normal whitespace-nowrap\"><p class=\"f1-text font-titillium tracking-normal font-normal non-italic normal-case leading-none f1-text__micro text-fs-15px\"><a class=\"underline underline-offset-normal decoration-1 decoration-greyLight hover:decoration-brand-primary\" href=\"races/1241/hungary/race-result\">Hungary</a></p></td><td class=\"p-normal default:max-mobile:collapse default:max-mobile:max-w-0 default:max-mobile:hidden mobile:max-tablet:collapse mobile:max-tablet:max-w-0 mobile:max-tablet:hidden whitespace-nowrap\"><p class=\"f1-text font-titillium tracking-normal font-normal non-italic normal-case leading-none f1-text__micro text-fs-15px\">21 Jul 2024</p></td><td class=\"p-normal whitespace-nowrap\"><p class=\"f1-text font-titillium tracking-normal font-normal non-italic normal-case leading-none f1-text__micro text-fs-15px\"><span class=\"max-desktop:hidden\">Oscar</span> <span class=\"max-tablet:hidden\">Piastri</span><span class=\"tablet:hidden\">PIA</span></p></td><td class=\"p-normal whitespace-nowrap\"><p class=\"f1-text font-titillium tracking-normal font-normal non-italic normal-case leading-none f1-text__micro text-fs-15px\">McLaren Mercedes</p></td><td class=\"p-normal default:max-mobile:collapse default:max-mobile:max-w-0 default:max-mobile:hidden mobile:max-tablet:collapse mobile:max-tablet:max-w-0 mobile:max-tablet:hidden whitespace-nowrap\"><p class=\"f1-text font-titillium tracking-normal font-normal non-italic normal-case leading-none f1-text__micro text-fs-15px\">70</p></td><td class=\"p-normal default:max-mobile:collapse default:max-mobile:max-w-0 default:max-mobile:hidden mobile:max-tablet:collapse mobile:max-tablet:max-w-0 mobile:max-tablet:hidden tablet:max-laptop:collapse tablet:max-laptop:max-w-0 tablet:max-laptop:hidden whitespace-nowrap\"><p class=\"f1-text font-titillium tracking-normal font-normal non-italic normal-case leading-none f1-text__micro text-fs-15px\">1:38:01.989</p></td></tr><tr class=\"bg-grey-10\"><td class=\"p-normal whitespace-nowrap\"><p class=\"f1-text font-titillium tracking-normal font-normal non-italic normal-case leading-none f1-text__micro text-fs-15px\"><a class=\"underline underline-offset-normal decoration-1 decoration-greyLight hover:decoration-brand-primary\" href=\"races/1242/belgium/race-result\">Belgium</a></p></td><td class=\"p-normal default:max-mobile:collapse default:max-mobile:max-w-0 default:max-mobile:hidden mobile:max-tablet:collapse mobile:max-tablet:max-w-0 mobile:max-tablet:hidden whitespace-nowrap\"><p class=\"f1-text font-titillium tracking-normal font-normal non-italic normal-case leading-none f1-text__micro text-fs-15px\">28 Jul 2024</p></td><td class=\"p-normal whitespace-nowrap\"><p class=\"f1-text font-titillium tracking-normal font-normal non-italic normal-case leading-none f1-text__micro text-fs-15px\"><span class=\"max-desktop:hidden\">Lewis</span> <span class=\"max-tablet:hidden\">Hamilton</span><span class=\"tablet:hidden\">HAM</span></p></td><td class=\"p-normal whitespace-nowrap\"><p class=\"f1-text font-titillium tracking-normal font-normal non-italic normal-case leading-none f1-text__micro text-fs-15px\">Mercedes</p></td><td class=\"p-normal default:max-mobile:collapse default:max-mobile:max-w-0 default:max-mobile:hidden mobile:max-tablet:collapse mobile:max-tablet:max-w-0 mobile:max-tablet:hidden whitespace-nowrap\"><p class=\"f1-text font-titillium tracking-normal font-normal non-italic normal-case leading-none f1-text__micro text-fs-15px\">44</p></td><td class=\"p-normal default:max-mobile:collapse default:max-mobile:max-w-0 default:max-mobile:hidden mobile:max-tablet:collapse mobile:max-tablet:max-w-0 mobile:max-tablet:hidden tablet:max-laptop:collapse tablet:max-laptop:max-w-0 tablet:max-laptop:hidden whitespace-nowrap\"><p class=\"f1-text font-titillium tracking-normal font-normal non-italic normal-case leading-none f1-text__micro text-fs-15px\">1:19:57.566</p></td></tr><tr class=\"bg-brand-white\"><td class=\"p-normal whitespace-nowrap\"><p class=\"f1-text font-titillium tracking-normal font-normal non-italic normal-case leading-none f1-text__micro text-fs-15px\"><a class=\"underline underline-offset-normal decoration-1 decoration-greyLight hover:decoration-brand-primary\" href=\"races/1243/netherlands/race-result\">Netherlands</a></p></td><td class=\"p-normal default:max-mobile:collapse default:max-mobile:max-w-0 default:max-mobile:hidden mobile:max-tablet:collapse mobile:max-tablet:max-w-0 mobile:max-tablet:hidden whitespace-nowrap\"><p class=\"f1-text font-titillium tracking-normal font-normal non-italic normal-case leading-none f1-text__micro text-fs-15px\">25 Aug 2024</p></td><td class=\"p-normal whitespace-nowrap\"><p class=\"f1-text font-titillium tracking-normal font-normal non-italic normal-case leading-none f1-text__micro text-fs-15px\"><span class=\"max-desktop:hidden\">Lando</span> <span class=\"max-tablet:hidden\">Norris</span><span class=\"tablet:hidden\">NOR</span></p></td><td class=\"p-normal whitespace-nowrap\"><p class=\"f1-text font-titillium tracking-normal font-normal non-italic normal-case leading-none f1-text__micro text-fs-15px\">McLaren Mercedes</p></td><td class=\"p-normal default:max-mobile:collapse default:max-mobile:max-w-0 default:max-mobile:hidden mobile:max-tablet:collapse mobile:max-tablet:max-w-0 mobile:max-tablet:hidden whitespace-nowrap\"><p class=\"f1-text font-titillium tracking-normal font-normal non-italic normal-case leading-none f1-text__micro text-fs-15px\">72</p></td><td class=\"p-normal default:max-mobile:collapse default:max-mobile:max-w-0 default:max-mobile:hidden mobile:max-tablet:collapse mobile:max-tablet:max-w-0 mobile:max-tablet:hidden tablet:max-laptop:collapse tablet:max-laptop:max-w-0 tablet:max-laptop:hidden whitespace-nowrap\"><p class=\"f1-text font-titillium tracking-normal font-normal non-italic normal-case leading-none f1-text__micro text-fs-15px\">1:30:45.519</p></td></tr><tr class=\"bg-grey-10\"><td class=\"p-normal whitespace-nowrap\"><p class=\"f1-text font-titillium tracking-normal font-normal non-italic normal-case leading-none f1-text__micro text-fs-15px\"><a class=\"underline underline-offset-normal decoration-1 decoration-greyLight hover:decoration-brand-primary\" href=\"races/1244/italy/race-result\">Italy</a></p></td><td class=\"p-normal default:max-mobile:collapse default:max-mobile:max-w-0 default:max-mobile:hidden mobile:max-tablet:collapse mobile:max-tablet:max-w-0 mobile:max-tablet:hidden whitespace-nowrap\"><p class=\"f1-text font-titillium tracking-normal font-normal non-italic normal-case leading-none f1-text__micro text-fs-15px\">01 Sep 2024</p></td><td class=\"p-normal whitespace-nowrap\"><p class=\"f1-text font-titillium tracking-normal font-normal non-italic normal-case leading-none f1-text__micro text-fs-15px\"><span class=\"max-desktop:hidden\">Charles</span> <span class=\"max-tablet:hidden\">Leclerc</span><span class=\"tablet:hidden\">LEC</span></p></td><td class=\"p-normal whitespace-nowrap\"><p class=\"f1-text font-titillium tracking-normal font-normal non-italic normal-case leading-none f1-text__micro text-fs-15px\">Ferrari</p></td><td class=\"p-normal default:max-mobile:collapse default:max-mobile:max-w-0 default:max-mobile:hidden mobile:max-tablet:collapse mobile:max-tablet:max-w-0 mobile:max-tablet:hidden whitespace-nowrap\"><p class=\"f1-text font-titillium tracking-normal font-normal non-italic normal-case leading-none f1-text__micro text-fs-15px\">53</p></td><td class=\"p-normal default:max-mobile:collapse default:max-mobile:max-w-0 default:max-mobile:hidden mobile:max-tablet:collapse mobile:max-tablet:max-w-0 mobile:max-tablet:hidden tablet:max-laptop:collapse tablet:max-laptop:max-w-0 tablet:max-laptop:hidden whitespace-nowrap\"><p class=\"f1-text font-titillium tracking-normal font-normal non-italic normal-case leading-none f1-text__micro text-fs-15px\">1:14:40.727</p></td></tr><tr class=\"bg-brand-white\"><td class=\"p-normal whitespace-nowrap\"><p class=\"f1-text font-titillium tracking-normal font-normal non-italic normal-case leading-none f1-text__micro text-fs-15px\"><a class=\"underline underline-offset-normal decoration-1 decoration-greyLight hover:decoration-brand-primary\" href=\"races/1245/azerbaijan/race-result\">Azerbaijan</a></p></td><td class=\"p-normal default:max-mobile:collapse default:max-mobile:max-w-0 default:max-mobile:hidden mobile:max-tablet:collapse mobile:max-tablet:max-w-0 mobile:max-tablet:hidden whitespace-nowrap\"><p class=\"f1-text font-titillium tracking-normal font-normal non-italic normal-case leading-none f1-text__micro text-fs-15px\">15 Sep 2024</p></td><td class=\"p-normal whitespace-nowrap\"><p class=\"f1-text font-titillium tracking-normal font-normal non-italic normal-case leading-none f1-text__micro text-fs-15px\"><span class=\"max-desktop:hidden\">Oscar</span> <span class=\"max-tablet:hidden\">Piastri</span><span class=\"tablet:hidden\">PIA</span></p></td><td class=\"p-normal whitespace-nowrap\"><p class=\"f1-text font-titillium tracking-normal font-normal non-italic normal-case leading-none f1-text__micro text-fs-15px\">McLaren Mercedes</p></td><td class=\"p-normal default:max-mobile:collapse default:max-mobile:max-w-0 default:max-mobile:hidden mobile:max-tablet:collapse mobile:max-tablet:max-w-0 mobile:max-tablet:hidden whitespace-nowrap\"><p class=\"f1-text font-titillium tracking-normal font-normal non-italic normal-case leading-none f1-text__micro text-fs-15px\">51</p></td><td class=\"p-normal default:max-mobile:collapse default:max-mobile:max-w-0 default:max-mobile:hidden mobile:max-tablet:collapse mobile:max-tablet:max-w-0 mobile:max-tablet:hidden tablet:max-laptop:collapse tablet:max-laptop:max-w-0 tablet:max-laptop:hidden whitespace-nowrap\"><p class=\"f1-text font-titillium tracking-normal font-normal non-italic normal-case leading-none f1-text__micro text-fs-15px\">1:32:58.007</p></td></tr><tr class=\"bg-grey-10\"><td class=\"p-normal whitespace-nowrap\"><p class=\"f1-text font-titillium tracking-normal font-normal non-italic normal-case leading-none f1-text__micro text-fs-15px\"><a class=\"underline underline-offset-normal decoration-1 decoration-greyLight hover:decoration-brand-primary\" href=\"races/1246/singapore/race-result\">Singapore</a></p></td><td class=\"p-normal default:max-mobile:collapse default:max-mobile:max-w-0 default:max-mobile:hidden mobile:max-tablet:collapse mobile:max-tablet:max-w-0 mobile:max-tablet:hidden whitespace-nowrap\"><p class=\"f1-text font-titillium tracking-normal font-normal non-italic normal-case leading-none f1-text__micro text-fs-15px\">22 Sep 2024</p></td><td class=\"p-normal whitespace-nowrap\"><p class=\"f1-text font-titillium tracking-normal font-normal non-italic normal-case leading-none f1-text__micro text-fs-15px\"><span class=\"max-desktop:hidden\">Lando</span> <span class=\"max-tablet:hidden\">Norris</span><span class=\"tablet:hidden\">NOR</span></p></td><td class=\"p-normal whitespace-nowrap\"><p class=\"f1-text font-titillium tracking-normal font-normal non-italic normal-case leading-none f1-text__micro text-fs-15px\">McLaren Mercedes</p></td><td class=\"p-normal default:max-mobile:collapse default:max-mobile:max-w-0 default:max-mobile:hidden mobile:max-tablet:collapse mobile:max-tablet:max-w-0 mobile:max-tablet:hidden whitespace-nowrap\"><p class=\"f1-text font-titillium tracking-normal font-normal non-italic normal-case leading-none f1-text__micro text-fs-15px\">62</p></td><td class=\"p-normal default:max-mobile:collapse default:max-mobile:max-w-0 default:max-mobile:hidden mobile:max-tablet:collapse mobile:max-tablet:max-w-0 mobile:max-tablet:hidden tablet:max-laptop:collapse tablet:max-laptop:max-w-0 tablet:max-laptop:hidden whitespace-nowrap\"><p class=\"f1-text font-titillium tracking-normal font-normal non-italic normal-case leading-none f1-text__micro text-fs-15px\">1:40:52.571</p></td></tr><tr class=\"bg-brand-white\"><td class=\"p-normal whitespace-nowrap\"><p class=\"f1-text font-titillium tracking-normal font-normal non-italic normal-case leading-none f1-text__micro text-fs-15px\"><a class=\"underline underline-offset-normal decoration-1 decoration-greyLight hover:decoration-brand-primary\" href=\"races/1247/united-states/race-result\">United States</a></p></td><td class=\"p-normal default:max-mobile:collapse default:max-mobile:max-w-0 default:max-mobile:hidden mobile:max-tablet:collapse mobile:max-tablet:max-w-0 mobile:max-tablet:hidden whitespace-nowrap\"><p class=\"f1-text font-titillium tracking-normal font-normal non-italic normal-case leading-none f1-text__micro text-fs-15px\">20 Oct 2024</p></td><td class=\"p-normal whitespace-nowrap\"><p class=\"f1-text font-titillium tracking-normal font-normal non-italic normal-case leading-none f1-text__micro text-fs-15px\"><span class=\"max-desktop:hidden\">Charles</span> <span class=\"max-tablet:hidden\">Leclerc</span><span class=\"tablet:hidden\">LEC</span></p></td><td class=\"p-normal whitespace-nowrap\"><p class=\"f1-text font-titillium tracking-normal font-normal non-italic normal-case leading-none f1-text__micro text-fs-15px\">Ferrari</p></td><td class=\"p-normal default:max-mobile:collapse default:max-mobile:max-w-0 default:max-mobile:hidden mobile:max-tablet:collapse mobile:max-tablet:max-w-0 mobile:max-tablet:hidden whitespace-nowrap\"><p class=\"f1-text font-titillium tracking-normal font-normal non-italic normal-case leading-none f1-text__micro text-fs-15px\">56</p></td><td class=\"p-normal default:max-mobile:collapse default:max-mobile:max-w-0 default:max-mobile:hidden mobile:max-tablet:collapse mobile:max-tablet:max-w-0 mobile:max-tablet:hidden tablet:max-laptop:collapse tablet:max-laptop:max-w-0 tablet:max-laptop:hidden whitespace-nowrap\"><p class=\"f1-text font-titillium tracking-normal font-normal non-italic normal-case leading-none f1-text__micro text-fs-15px\">1:35:09.639</p></td></tr><tr class=\"bg-grey-10\"><td class=\"p-normal whitespace-nowrap\"><p class=\"f1-text font-titillium tracking-normal font-normal non-italic normal-case leading-none f1-text__micro text-fs-15px\"><a class=\"underline underline-offset-normal decoration-1 decoration-greyLight hover:decoration-brand-primary\" href=\"races/1248/mexico/race-result\">Mexico</a></p></td><td class=\"p-normal default:max-mobile:collapse default:max-mobile:max-w-0 default:max-mobile:hidden mobile:max-tablet:collapse mobile:max-tablet:max-w-0 mobile:max-tablet:hidden whitespace-nowrap\"><p class=\"f1-text font-titillium tracking-normal font-normal non-italic normal-case leading-none f1-text__micro text-fs-15px\">27 Oct 2024</p></td><td class=\"p-normal whitespace-nowrap\"><p class=\"f1-text font-titillium tracking-normal font-normal non-italic normal-case leading-none f1-text__micro text-fs-15px\"><span class=\"max-desktop:hidden\">Carlos</span> <span class=\"max-tablet:hidden\">Sainz</span><span class=\"tablet:hidden\">SAI</span></p></td><td class=\"p-normal whitespace-nowrap\"><p class=\"f1-text font-titillium tracking-normal font-normal non-italic normal-case leading-none f1-text__micro text-fs-15px\">Ferrari</p></td><td class=\"p-normal default:max-mobile:collapse default:max-mobile:max-w-0 default:max-mobile:hidden mobile:max-tablet:collapse mobile:max-tablet:max-w-0 mobile:max-tablet:hidden whitespace-nowrap\"><p class=\"f1-text font-titillium tracking-normal font-normal non-italic normal-case leading-none f1-text__micro text-fs-15px\">71</p></td><td class=\"p-normal default:max-mobile:collapse default:max-mobile:max-w-0 default:max-mobile:hidden mobile:max-tablet:collapse mobile:max-tablet:max-w-0 mobile:max-tablet:hidden tablet:max-laptop:collapse tablet:max-laptop:max-w-0 tablet:max-laptop:hidden whitespace-nowrap\"><p class=\"f1-text font-titillium tracking-normal font-normal non-italic normal-case leading-none f1-text__micro text-fs-15px\">1:40:55.800</p></td></tr><tr class=\"bg-brand-white\"><td class=\"p-normal whitespace-nowrap\"><p class=\"f1-text font-titillium tracking-normal font-normal non-italic normal-case leading-none f1-text__micro text-fs-15px\"><a class=\"underline underline-offset-normal decoration-1 decoration-greyLight hover:decoration-brand-primary\" href=\"races/1249/brazil/race-result\">Brazil</a></p></td><td class=\"p-normal default:max-mobile:collapse default:max-mobile:max-w-0 default:max-mobile:hidden mobile:max-tablet:collapse mobile:max-tablet:max-w-0 mobile:max-tablet:hidden whitespace-nowrap\"><p class=\"f1-text font-titillium tracking-normal font-normal non-italic normal-case leading-none f1-text__micro text-fs-15px\">03 Nov 2024</p></td><td class=\"p-normal whitespace-nowrap\"><p class=\"f1-text font-titillium tracking-normal font-normal non-italic normal-case leading-none f1-text__micro text-fs-15px\"><span class=\"max-desktop:hidden\">Max</span> <span class=\"max-tablet:hidden\">Verstappen</span><span class=\"tablet:hidden\">VER</span></p></td><td class=\"p-normal whitespace-nowrap\"><p class=\"f1-text font-titillium tracking-normal font-normal non-italic normal-case leading-none f1-text__micro text-fs-15px\">Red Bull Racing Honda RBPT</p></td><td class=\"p-normal default:max-mobile:collapse default:max-mobile:max-w-0 default:max-mobile:hidden mobile:max-tablet:collapse mobile:max-tablet:max-w-0 mobile:max-tablet:hidden whitespace-nowrap\"><p class=\"f1-text font-titillium tracking-normal font-normal non-italic normal-case leading-none f1-text__micro text-fs-15px\">69</p></td><td class=\"p-normal default:max-mobile:collapse default:max-mobile:max-w-0 default:max-mobile:hidden mobile:max-tablet:collapse mobile:max-tablet:max-w-0 mobile:max-tablet:hidden tablet:max-laptop:collapse tablet:max-laptop:max-w-0 tablet:max-laptop:hidden whitespace-nowrap\"><p class=\"f1-text font-titillium tracking-normal font-normal non-italic normal-case leading-none f1-text__micro text-fs-15px\">2:06:54.430</p></td></tr><tr class=\"bg-grey-10\"><td class=\"p-normal whitespace-nowrap\"><p class=\"f1-text font-titillium tracking-normal font-normal non-italic normal-case leading-none f1-text__micro text-fs-15px\"><a class=\"underline underline-offset-normal decoration-1 decoration-greyLight hover:decoration-brand-primary\" href=\"races/1250/las-vegas/race-result\">Las Vegas</a></p></td><td class=\"p-normal default:max-mobile:collapse default:max-mobile:max-w-0 default:max-mobile:hidden mobile:max-tablet:collapse mobile:max-tablet:max-w-0 mobile:max-tablet:hidden whitespace-nowrap\"><p class=\"f1-text font-titillium tracking-normal font-normal non-italic normal-case leading-none f1-text__micro text-fs-15px\">23 Nov 2024</p></td><td class=\"p-normal whitespace-nowrap\"><p class=\"f1-text font-titillium tracking-normal font-normal non-italic normal-case leading-none f1-text__micro text-fs-15px\"><span class=\"max-desktop:hidden\">George</span> <span class=\"max-tablet:hidden\">Russell</span><span class=\"tablet:hidden\">RUS</span></p></td><td class=\"p-normal whitespace-nowrap\"><p class=\"f1-text font-titillium tracking-normal font-normal non-italic normal-case leading-none f1-text__micro text-fs-15px\">Mercedes</p></td><td class=\"p-normal default:max-mobile:collapse default:max-mobile:max-w-0 default:max-mobile:hidden mobile:max-tablet:collapse mobile:max-tablet:max-w-0 mobile:max-tablet:hidden whitespace-nowrap\"><p class=\"f1-text font-titillium tracking-normal font-normal non-italic normal-case leading-none f1-text__micro text-fs-15px\">50</p></td><td class=\"p-normal default:max-mobile:collapse default:max-mobile:max-w-0 default:max-mobile:hidden mobile:max-tablet:collapse mobile:max-tablet:max-w-0 mobile:max-tablet:hidden tablet:max-laptop:collapse tablet:max-laptop:max-w-0 tablet:max-laptop:hidden whitespace-nowrap\"><p class=\"f1-text font-titillium tracking-normal font-normal non-italic normal-case leading-none f1-text__micro text-fs-15px\">1:22:05.969</p></td></tr><tr class=\"bg-brand-white\"><td class=\"p-normal whitespace-nowrap\"><p class=\"f1-text font-titillium tracking-normal font-normal non-italic normal-case leading-none f1-text__micro text-fs-15px\"><a class=\"underline underline-offset-normal decoration-1 decoration-greyLight hover:decoration-brand-primary\" href=\"races/1251/qatar/race-result\">Qatar</a></p></td><td class=\"p-normal default:max-mobile:collapse default:max-mobile:max-w-0 default:max-mobile:hidden mobile:max-tablet:collapse mobile:max-tablet:max-w-0 mobile:max-tablet:hidden whitespace-nowrap\"><p class=\"f1-text font-titillium tracking-normal font-normal non-italic normal-case leading-none f1-text__micro text-fs-15px\">01 Dec 2024</p></td><td class=\"p-normal whitespace-nowrap\"><p class=\"f1-text font-titillium tracking-normal font-normal non-italic normal-case leading-none f1-text__micro text-fs-15px\"><span class=\"max-desktop:hidden\">Max</span> <span class=\"max-tablet:hidden\">Verstappen</span><span class=\"tablet:hidden\">VER</span></p></td><td class=\"p-normal whitespace-nowrap\"><p class=\"f1-text font-titillium tracking-normal font-normal non-italic normal-case leading-none f1-text__micro text-fs-15px\">Red Bull Racing Honda RBPT</p></td><td class=\"p-normal default:max-mobile:collapse default:max-mobile:max-w-0 default:max-mobile:hidden mobile:max-tablet:collapse mobile:max-tablet:max-w-0 mobile:max-tablet:hidden whitespace-nowrap\"><p class=\"f1-text font-titillium tracking-normal font-normal non-italic normal-case leading-none f1-text__micro text-fs-15px\">57</p></td><td class=\"p-normal default:max-mobile:collapse default:max-mobile:max-w-0 default:max-mobile:hidden mobile:max-tablet:collapse mobile:max-tablet:max-w-0 mobile:max-tablet:hidden tablet:max-laptop:collapse tablet:max-laptop:max-w-0 tablet:max-laptop:hidden whitespace-nowrap\"><p class=\"f1-text font-titillium tracking-normal font-normal non-italic normal-case leading-none f1-text__micro text-fs-15px\">1:31:05.323</p></td></tr><tr class=\"bg-grey-10\"><td class=\"p-normal whitespace-nowrap\"><p class=\"f1-text font-titillium tracking-normal font-normal non-italic normal-case leading-none f1-text__micro text-fs-15px\"><a class=\"underline underline-offset-normal decoration-1 decoration-greyLight hover:decoration-brand-primary\" href=\"races/1252/abu-dhabi/race-result\">Abu Dhabi</a></p></td><td class=\"p-normal default:max-mobile:collapse default:max-mobile:max-w-0 default:max-mobile:hidden mobile:max-tablet:collapse mobile:max-tablet:max-w-0 mobile:max-tablet:hidden whitespace-nowrap\"><p class=\"f1-text font-titillium tracking-normal font-normal non-italic normal-case leading-none f1-text__micro text-fs-15px\">08 Dec 2024</p></td><td class=\"p-normal whitespace-nowrap\"><p class=\"f1-text font-titillium tracking-normal font-normal non-italic normal-case leading-none f1-text__micro text-fs-15px\"><span class=\"max-desktop:hidden\">Lando</span> <span class=\"max-tablet:hidden\">Norris</span><span class=\"tablet:hidden\">NOR</span></p></td><td class=\"p-normal whitespace-nowrap\"><p class=\"f1-text font-titillium tracking-normal font-normal non-italic normal-case leading-none f1-text__micro text-fs-15px\">McLaren Mercedes</p></td><td class=\"p-normal default:max-mobile:collapse default:max-mobile:max-w-0 default:max-mobile:hidden mobile:max-tablet:collapse mobile:max-tablet:max-w-0 mobile:max-tablet:hidden whitespace-nowrap\"><p class=\"f1-text font-titillium tracking-normal font-normal non-italic normal-case leading-none f1-text__micro text-fs-15px\">58</p></td><td class=\"p-normal default:max-mobile:collapse default:max-mobile:max-w-0 default:max-mobile:hidden mobile:max-tablet:collapse mobile:max-tablet:max-w-0 mobile:max-tablet:hidden tablet:max-laptop:collapse tablet:max-laptop:max-w-0 tablet:max-laptop:hidden whitespace-nowrap\"><p class=\"f1-text font-titillium tracking-normal font-normal non-italic normal-case leading-none f1-text__micro text-fs-15px\">1:26:33.291</p></td></tr></tbody>]"
      ]
     },
     "execution_count": 34,
     "metadata": {},
     "output_type": "execute_result"
    }
   ],
   "source": [
    "table1 = soup.find_all('tbody')\n",
    "table1"
   ]
  },
  {
   "cell_type": "code",
   "execution_count": 39,
   "id": "61f017d2-c11e-4126-b5a5-35361302fcd1",
   "metadata": {},
   "outputs": [
    {
     "data": {
      "text/plain": [
       "[<tr class=\"bg-brand-white\"><th class=\"p-normal text-left whitespace-nowrap\"><p class=\"f1-text font-titillium tracking-normal font-bold non-italic uppercase leading-snug f1-text__micro text-fs-15px\">Grand Prix</p></th><th class=\"p-normal text-left default:max-mobile:collapse default:max-mobile:max-w-0 default:max-mobile:hidden mobile:max-tablet:collapse mobile:max-tablet:max-w-0 mobile:max-tablet:hidden whitespace-nowrap\"><p class=\"f1-text font-titillium tracking-normal font-bold non-italic uppercase leading-snug f1-text__micro text-fs-15px\">Date</p></th><th class=\"p-normal text-left whitespace-nowrap\"><p class=\"f1-text font-titillium tracking-normal font-bold non-italic uppercase leading-snug f1-text__micro text-fs-15px\">Winner</p></th><th class=\"p-normal text-left whitespace-nowrap\"><p class=\"f1-text font-titillium tracking-normal font-bold non-italic uppercase leading-snug f1-text__micro text-fs-15px\">Car</p></th><th class=\"p-normal text-left default:max-mobile:collapse default:max-mobile:max-w-0 default:max-mobile:hidden mobile:max-tablet:collapse mobile:max-tablet:max-w-0 mobile:max-tablet:hidden whitespace-nowrap\"><p class=\"f1-text font-titillium tracking-normal font-bold non-italic uppercase leading-snug f1-text__micro text-fs-15px\">Laps</p></th><th class=\"p-normal text-left default:max-mobile:collapse default:max-mobile:max-w-0 default:max-mobile:hidden mobile:max-tablet:collapse mobile:max-tablet:max-w-0 mobile:max-tablet:hidden tablet:max-laptop:collapse tablet:max-laptop:max-w-0 tablet:max-laptop:hidden whitespace-nowrap\"><p class=\"f1-text font-titillium tracking-normal font-bold non-italic uppercase leading-snug f1-text__micro text-fs-15px\">Time</p></th></tr>,\n",
       " <tr class=\"bg-brand-white\"><td class=\"p-normal whitespace-nowrap\"><p class=\"f1-text font-titillium tracking-normal font-normal non-italic normal-case leading-none f1-text__micro text-fs-15px\"><a class=\"underline underline-offset-normal decoration-1 decoration-greyLight hover:decoration-brand-primary\" href=\"races/1229/bahrain/race-result\">Bahrain</a></p></td><td class=\"p-normal default:max-mobile:collapse default:max-mobile:max-w-0 default:max-mobile:hidden mobile:max-tablet:collapse mobile:max-tablet:max-w-0 mobile:max-tablet:hidden whitespace-nowrap\"><p class=\"f1-text font-titillium tracking-normal font-normal non-italic normal-case leading-none f1-text__micro text-fs-15px\">02 Mar 2024</p></td><td class=\"p-normal whitespace-nowrap\"><p class=\"f1-text font-titillium tracking-normal font-normal non-italic normal-case leading-none f1-text__micro text-fs-15px\"><span class=\"max-desktop:hidden\">Max</span> <span class=\"max-tablet:hidden\">Verstappen</span><span class=\"tablet:hidden\">VER</span></p></td><td class=\"p-normal whitespace-nowrap\"><p class=\"f1-text font-titillium tracking-normal font-normal non-italic normal-case leading-none f1-text__micro text-fs-15px\">Red Bull Racing Honda RBPT</p></td><td class=\"p-normal default:max-mobile:collapse default:max-mobile:max-w-0 default:max-mobile:hidden mobile:max-tablet:collapse mobile:max-tablet:max-w-0 mobile:max-tablet:hidden whitespace-nowrap\"><p class=\"f1-text font-titillium tracking-normal font-normal non-italic normal-case leading-none f1-text__micro text-fs-15px\">57</p></td><td class=\"p-normal default:max-mobile:collapse default:max-mobile:max-w-0 default:max-mobile:hidden mobile:max-tablet:collapse mobile:max-tablet:max-w-0 mobile:max-tablet:hidden tablet:max-laptop:collapse tablet:max-laptop:max-w-0 tablet:max-laptop:hidden whitespace-nowrap\"><p class=\"f1-text font-titillium tracking-normal font-normal non-italic normal-case leading-none f1-text__micro text-fs-15px\">1:31:44.742</p></td></tr>,\n",
       " <tr class=\"bg-grey-10\"><td class=\"p-normal whitespace-nowrap\"><p class=\"f1-text font-titillium tracking-normal font-normal non-italic normal-case leading-none f1-text__micro text-fs-15px\"><a class=\"underline underline-offset-normal decoration-1 decoration-greyLight hover:decoration-brand-primary\" href=\"races/1230/saudi-arabia/race-result\">Saudi Arabia</a></p></td><td class=\"p-normal default:max-mobile:collapse default:max-mobile:max-w-0 default:max-mobile:hidden mobile:max-tablet:collapse mobile:max-tablet:max-w-0 mobile:max-tablet:hidden whitespace-nowrap\"><p class=\"f1-text font-titillium tracking-normal font-normal non-italic normal-case leading-none f1-text__micro text-fs-15px\">09 Mar 2024</p></td><td class=\"p-normal whitespace-nowrap\"><p class=\"f1-text font-titillium tracking-normal font-normal non-italic normal-case leading-none f1-text__micro text-fs-15px\"><span class=\"max-desktop:hidden\">Max</span> <span class=\"max-tablet:hidden\">Verstappen</span><span class=\"tablet:hidden\">VER</span></p></td><td class=\"p-normal whitespace-nowrap\"><p class=\"f1-text font-titillium tracking-normal font-normal non-italic normal-case leading-none f1-text__micro text-fs-15px\">Red Bull Racing Honda RBPT</p></td><td class=\"p-normal default:max-mobile:collapse default:max-mobile:max-w-0 default:max-mobile:hidden mobile:max-tablet:collapse mobile:max-tablet:max-w-0 mobile:max-tablet:hidden whitespace-nowrap\"><p class=\"f1-text font-titillium tracking-normal font-normal non-italic normal-case leading-none f1-text__micro text-fs-15px\">50</p></td><td class=\"p-normal default:max-mobile:collapse default:max-mobile:max-w-0 default:max-mobile:hidden mobile:max-tablet:collapse mobile:max-tablet:max-w-0 mobile:max-tablet:hidden tablet:max-laptop:collapse tablet:max-laptop:max-w-0 tablet:max-laptop:hidden whitespace-nowrap\"><p class=\"f1-text font-titillium tracking-normal font-normal non-italic normal-case leading-none f1-text__micro text-fs-15px\">1:20:43.273</p></td></tr>,\n",
       " <tr class=\"bg-brand-white\"><td class=\"p-normal whitespace-nowrap\"><p class=\"f1-text font-titillium tracking-normal font-normal non-italic normal-case leading-none f1-text__micro text-fs-15px\"><a class=\"underline underline-offset-normal decoration-1 decoration-greyLight hover:decoration-brand-primary\" href=\"races/1231/australia/race-result\">Australia</a></p></td><td class=\"p-normal default:max-mobile:collapse default:max-mobile:max-w-0 default:max-mobile:hidden mobile:max-tablet:collapse mobile:max-tablet:max-w-0 mobile:max-tablet:hidden whitespace-nowrap\"><p class=\"f1-text font-titillium tracking-normal font-normal non-italic normal-case leading-none f1-text__micro text-fs-15px\">24 Mar 2024</p></td><td class=\"p-normal whitespace-nowrap\"><p class=\"f1-text font-titillium tracking-normal font-normal non-italic normal-case leading-none f1-text__micro text-fs-15px\"><span class=\"max-desktop:hidden\">Carlos</span> <span class=\"max-tablet:hidden\">Sainz</span><span class=\"tablet:hidden\">SAI</span></p></td><td class=\"p-normal whitespace-nowrap\"><p class=\"f1-text font-titillium tracking-normal font-normal non-italic normal-case leading-none f1-text__micro text-fs-15px\">Ferrari</p></td><td class=\"p-normal default:max-mobile:collapse default:max-mobile:max-w-0 default:max-mobile:hidden mobile:max-tablet:collapse mobile:max-tablet:max-w-0 mobile:max-tablet:hidden whitespace-nowrap\"><p class=\"f1-text font-titillium tracking-normal font-normal non-italic normal-case leading-none f1-text__micro text-fs-15px\">58</p></td><td class=\"p-normal default:max-mobile:collapse default:max-mobile:max-w-0 default:max-mobile:hidden mobile:max-tablet:collapse mobile:max-tablet:max-w-0 mobile:max-tablet:hidden tablet:max-laptop:collapse tablet:max-laptop:max-w-0 tablet:max-laptop:hidden whitespace-nowrap\"><p class=\"f1-text font-titillium tracking-normal font-normal non-italic normal-case leading-none f1-text__micro text-fs-15px\">1:20:26.843</p></td></tr>,\n",
       " <tr class=\"bg-grey-10\"><td class=\"p-normal whitespace-nowrap\"><p class=\"f1-text font-titillium tracking-normal font-normal non-italic normal-case leading-none f1-text__micro text-fs-15px\"><a class=\"underline underline-offset-normal decoration-1 decoration-greyLight hover:decoration-brand-primary\" href=\"races/1232/japan/race-result\">Japan</a></p></td><td class=\"p-normal default:max-mobile:collapse default:max-mobile:max-w-0 default:max-mobile:hidden mobile:max-tablet:collapse mobile:max-tablet:max-w-0 mobile:max-tablet:hidden whitespace-nowrap\"><p class=\"f1-text font-titillium tracking-normal font-normal non-italic normal-case leading-none f1-text__micro text-fs-15px\">07 Apr 2024</p></td><td class=\"p-normal whitespace-nowrap\"><p class=\"f1-text font-titillium tracking-normal font-normal non-italic normal-case leading-none f1-text__micro text-fs-15px\"><span class=\"max-desktop:hidden\">Max</span> <span class=\"max-tablet:hidden\">Verstappen</span><span class=\"tablet:hidden\">VER</span></p></td><td class=\"p-normal whitespace-nowrap\"><p class=\"f1-text font-titillium tracking-normal font-normal non-italic normal-case leading-none f1-text__micro text-fs-15px\">Red Bull Racing Honda RBPT</p></td><td class=\"p-normal default:max-mobile:collapse default:max-mobile:max-w-0 default:max-mobile:hidden mobile:max-tablet:collapse mobile:max-tablet:max-w-0 mobile:max-tablet:hidden whitespace-nowrap\"><p class=\"f1-text font-titillium tracking-normal font-normal non-italic normal-case leading-none f1-text__micro text-fs-15px\">53</p></td><td class=\"p-normal default:max-mobile:collapse default:max-mobile:max-w-0 default:max-mobile:hidden mobile:max-tablet:collapse mobile:max-tablet:max-w-0 mobile:max-tablet:hidden tablet:max-laptop:collapse tablet:max-laptop:max-w-0 tablet:max-laptop:hidden whitespace-nowrap\"><p class=\"f1-text font-titillium tracking-normal font-normal non-italic normal-case leading-none f1-text__micro text-fs-15px\">1:54:23.566</p></td></tr>,\n",
       " <tr class=\"bg-brand-white\"><td class=\"p-normal whitespace-nowrap\"><p class=\"f1-text font-titillium tracking-normal font-normal non-italic normal-case leading-none f1-text__micro text-fs-15px\"><a class=\"underline underline-offset-normal decoration-1 decoration-greyLight hover:decoration-brand-primary\" href=\"races/1233/china/race-result\">China</a></p></td><td class=\"p-normal default:max-mobile:collapse default:max-mobile:max-w-0 default:max-mobile:hidden mobile:max-tablet:collapse mobile:max-tablet:max-w-0 mobile:max-tablet:hidden whitespace-nowrap\"><p class=\"f1-text font-titillium tracking-normal font-normal non-italic normal-case leading-none f1-text__micro text-fs-15px\">21 Apr 2024</p></td><td class=\"p-normal whitespace-nowrap\"><p class=\"f1-text font-titillium tracking-normal font-normal non-italic normal-case leading-none f1-text__micro text-fs-15px\"><span class=\"max-desktop:hidden\">Max</span> <span class=\"max-tablet:hidden\">Verstappen</span><span class=\"tablet:hidden\">VER</span></p></td><td class=\"p-normal whitespace-nowrap\"><p class=\"f1-text font-titillium tracking-normal font-normal non-italic normal-case leading-none f1-text__micro text-fs-15px\">Red Bull Racing Honda RBPT</p></td><td class=\"p-normal default:max-mobile:collapse default:max-mobile:max-w-0 default:max-mobile:hidden mobile:max-tablet:collapse mobile:max-tablet:max-w-0 mobile:max-tablet:hidden whitespace-nowrap\"><p class=\"f1-text font-titillium tracking-normal font-normal non-italic normal-case leading-none f1-text__micro text-fs-15px\">56</p></td><td class=\"p-normal default:max-mobile:collapse default:max-mobile:max-w-0 default:max-mobile:hidden mobile:max-tablet:collapse mobile:max-tablet:max-w-0 mobile:max-tablet:hidden tablet:max-laptop:collapse tablet:max-laptop:max-w-0 tablet:max-laptop:hidden whitespace-nowrap\"><p class=\"f1-text font-titillium tracking-normal font-normal non-italic normal-case leading-none f1-text__micro text-fs-15px\">1:40:52.554</p></td></tr>,\n",
       " <tr class=\"bg-grey-10\"><td class=\"p-normal whitespace-nowrap\"><p class=\"f1-text font-titillium tracking-normal font-normal non-italic normal-case leading-none f1-text__micro text-fs-15px\"><a class=\"underline underline-offset-normal decoration-1 decoration-greyLight hover:decoration-brand-primary\" href=\"races/1234/miami/race-result\">Miami</a></p></td><td class=\"p-normal default:max-mobile:collapse default:max-mobile:max-w-0 default:max-mobile:hidden mobile:max-tablet:collapse mobile:max-tablet:max-w-0 mobile:max-tablet:hidden whitespace-nowrap\"><p class=\"f1-text font-titillium tracking-normal font-normal non-italic normal-case leading-none f1-text__micro text-fs-15px\">05 May 2024</p></td><td class=\"p-normal whitespace-nowrap\"><p class=\"f1-text font-titillium tracking-normal font-normal non-italic normal-case leading-none f1-text__micro text-fs-15px\"><span class=\"max-desktop:hidden\">Lando</span> <span class=\"max-tablet:hidden\">Norris</span><span class=\"tablet:hidden\">NOR</span></p></td><td class=\"p-normal whitespace-nowrap\"><p class=\"f1-text font-titillium tracking-normal font-normal non-italic normal-case leading-none f1-text__micro text-fs-15px\">McLaren Mercedes</p></td><td class=\"p-normal default:max-mobile:collapse default:max-mobile:max-w-0 default:max-mobile:hidden mobile:max-tablet:collapse mobile:max-tablet:max-w-0 mobile:max-tablet:hidden whitespace-nowrap\"><p class=\"f1-text font-titillium tracking-normal font-normal non-italic normal-case leading-none f1-text__micro text-fs-15px\">57</p></td><td class=\"p-normal default:max-mobile:collapse default:max-mobile:max-w-0 default:max-mobile:hidden mobile:max-tablet:collapse mobile:max-tablet:max-w-0 mobile:max-tablet:hidden tablet:max-laptop:collapse tablet:max-laptop:max-w-0 tablet:max-laptop:hidden whitespace-nowrap\"><p class=\"f1-text font-titillium tracking-normal font-normal non-italic normal-case leading-none f1-text__micro text-fs-15px\">1:30:49.876</p></td></tr>,\n",
       " <tr class=\"bg-brand-white\"><td class=\"p-normal whitespace-nowrap\"><p class=\"f1-text font-titillium tracking-normal font-normal non-italic normal-case leading-none f1-text__micro text-fs-15px\"><a class=\"underline underline-offset-normal decoration-1 decoration-greyLight hover:decoration-brand-primary\" href=\"races/1235/emilia-romagna/race-result\">Emilia-Romagna</a></p></td><td class=\"p-normal default:max-mobile:collapse default:max-mobile:max-w-0 default:max-mobile:hidden mobile:max-tablet:collapse mobile:max-tablet:max-w-0 mobile:max-tablet:hidden whitespace-nowrap\"><p class=\"f1-text font-titillium tracking-normal font-normal non-italic normal-case leading-none f1-text__micro text-fs-15px\">19 May 2024</p></td><td class=\"p-normal whitespace-nowrap\"><p class=\"f1-text font-titillium tracking-normal font-normal non-italic normal-case leading-none f1-text__micro text-fs-15px\"><span class=\"max-desktop:hidden\">Max</span> <span class=\"max-tablet:hidden\">Verstappen</span><span class=\"tablet:hidden\">VER</span></p></td><td class=\"p-normal whitespace-nowrap\"><p class=\"f1-text font-titillium tracking-normal font-normal non-italic normal-case leading-none f1-text__micro text-fs-15px\">Red Bull Racing Honda RBPT</p></td><td class=\"p-normal default:max-mobile:collapse default:max-mobile:max-w-0 default:max-mobile:hidden mobile:max-tablet:collapse mobile:max-tablet:max-w-0 mobile:max-tablet:hidden whitespace-nowrap\"><p class=\"f1-text font-titillium tracking-normal font-normal non-italic normal-case leading-none f1-text__micro text-fs-15px\">63</p></td><td class=\"p-normal default:max-mobile:collapse default:max-mobile:max-w-0 default:max-mobile:hidden mobile:max-tablet:collapse mobile:max-tablet:max-w-0 mobile:max-tablet:hidden tablet:max-laptop:collapse tablet:max-laptop:max-w-0 tablet:max-laptop:hidden whitespace-nowrap\"><p class=\"f1-text font-titillium tracking-normal font-normal non-italic normal-case leading-none f1-text__micro text-fs-15px\">1:25:25.252</p></td></tr>,\n",
       " <tr class=\"bg-grey-10\"><td class=\"p-normal whitespace-nowrap\"><p class=\"f1-text font-titillium tracking-normal font-normal non-italic normal-case leading-none f1-text__micro text-fs-15px\"><a class=\"underline underline-offset-normal decoration-1 decoration-greyLight hover:decoration-brand-primary\" href=\"races/1236/monaco/race-result\">Monaco</a></p></td><td class=\"p-normal default:max-mobile:collapse default:max-mobile:max-w-0 default:max-mobile:hidden mobile:max-tablet:collapse mobile:max-tablet:max-w-0 mobile:max-tablet:hidden whitespace-nowrap\"><p class=\"f1-text font-titillium tracking-normal font-normal non-italic normal-case leading-none f1-text__micro text-fs-15px\">26 May 2024</p></td><td class=\"p-normal whitespace-nowrap\"><p class=\"f1-text font-titillium tracking-normal font-normal non-italic normal-case leading-none f1-text__micro text-fs-15px\"><span class=\"max-desktop:hidden\">Charles</span> <span class=\"max-tablet:hidden\">Leclerc</span><span class=\"tablet:hidden\">LEC</span></p></td><td class=\"p-normal whitespace-nowrap\"><p class=\"f1-text font-titillium tracking-normal font-normal non-italic normal-case leading-none f1-text__micro text-fs-15px\">Ferrari</p></td><td class=\"p-normal default:max-mobile:collapse default:max-mobile:max-w-0 default:max-mobile:hidden mobile:max-tablet:collapse mobile:max-tablet:max-w-0 mobile:max-tablet:hidden whitespace-nowrap\"><p class=\"f1-text font-titillium tracking-normal font-normal non-italic normal-case leading-none f1-text__micro text-fs-15px\">78</p></td><td class=\"p-normal default:max-mobile:collapse default:max-mobile:max-w-0 default:max-mobile:hidden mobile:max-tablet:collapse mobile:max-tablet:max-w-0 mobile:max-tablet:hidden tablet:max-laptop:collapse tablet:max-laptop:max-w-0 tablet:max-laptop:hidden whitespace-nowrap\"><p class=\"f1-text font-titillium tracking-normal font-normal non-italic normal-case leading-none f1-text__micro text-fs-15px\">2:23:15.554</p></td></tr>,\n",
       " <tr class=\"bg-brand-white\"><td class=\"p-normal whitespace-nowrap\"><p class=\"f1-text font-titillium tracking-normal font-normal non-italic normal-case leading-none f1-text__micro text-fs-15px\"><a class=\"underline underline-offset-normal decoration-1 decoration-greyLight hover:decoration-brand-primary\" href=\"races/1237/canada/race-result\">Canada</a></p></td><td class=\"p-normal default:max-mobile:collapse default:max-mobile:max-w-0 default:max-mobile:hidden mobile:max-tablet:collapse mobile:max-tablet:max-w-0 mobile:max-tablet:hidden whitespace-nowrap\"><p class=\"f1-text font-titillium tracking-normal font-normal non-italic normal-case leading-none f1-text__micro text-fs-15px\">09 Jun 2024</p></td><td class=\"p-normal whitespace-nowrap\"><p class=\"f1-text font-titillium tracking-normal font-normal non-italic normal-case leading-none f1-text__micro text-fs-15px\"><span class=\"max-desktop:hidden\">Max</span> <span class=\"max-tablet:hidden\">Verstappen</span><span class=\"tablet:hidden\">VER</span></p></td><td class=\"p-normal whitespace-nowrap\"><p class=\"f1-text font-titillium tracking-normal font-normal non-italic normal-case leading-none f1-text__micro text-fs-15px\">Red Bull Racing Honda RBPT</p></td><td class=\"p-normal default:max-mobile:collapse default:max-mobile:max-w-0 default:max-mobile:hidden mobile:max-tablet:collapse mobile:max-tablet:max-w-0 mobile:max-tablet:hidden whitespace-nowrap\"><p class=\"f1-text font-titillium tracking-normal font-normal non-italic normal-case leading-none f1-text__micro text-fs-15px\">70</p></td><td class=\"p-normal default:max-mobile:collapse default:max-mobile:max-w-0 default:max-mobile:hidden mobile:max-tablet:collapse mobile:max-tablet:max-w-0 mobile:max-tablet:hidden tablet:max-laptop:collapse tablet:max-laptop:max-w-0 tablet:max-laptop:hidden whitespace-nowrap\"><p class=\"f1-text font-titillium tracking-normal font-normal non-italic normal-case leading-none f1-text__micro text-fs-15px\">1:45:47.927</p></td></tr>,\n",
       " <tr class=\"bg-grey-10\"><td class=\"p-normal whitespace-nowrap\"><p class=\"f1-text font-titillium tracking-normal font-normal non-italic normal-case leading-none f1-text__micro text-fs-15px\"><a class=\"underline underline-offset-normal decoration-1 decoration-greyLight hover:decoration-brand-primary\" href=\"races/1238/spain/race-result\">Spain</a></p></td><td class=\"p-normal default:max-mobile:collapse default:max-mobile:max-w-0 default:max-mobile:hidden mobile:max-tablet:collapse mobile:max-tablet:max-w-0 mobile:max-tablet:hidden whitespace-nowrap\"><p class=\"f1-text font-titillium tracking-normal font-normal non-italic normal-case leading-none f1-text__micro text-fs-15px\">23 Jun 2024</p></td><td class=\"p-normal whitespace-nowrap\"><p class=\"f1-text font-titillium tracking-normal font-normal non-italic normal-case leading-none f1-text__micro text-fs-15px\"><span class=\"max-desktop:hidden\">Max</span> <span class=\"max-tablet:hidden\">Verstappen</span><span class=\"tablet:hidden\">VER</span></p></td><td class=\"p-normal whitespace-nowrap\"><p class=\"f1-text font-titillium tracking-normal font-normal non-italic normal-case leading-none f1-text__micro text-fs-15px\">Red Bull Racing Honda RBPT</p></td><td class=\"p-normal default:max-mobile:collapse default:max-mobile:max-w-0 default:max-mobile:hidden mobile:max-tablet:collapse mobile:max-tablet:max-w-0 mobile:max-tablet:hidden whitespace-nowrap\"><p class=\"f1-text font-titillium tracking-normal font-normal non-italic normal-case leading-none f1-text__micro text-fs-15px\">66</p></td><td class=\"p-normal default:max-mobile:collapse default:max-mobile:max-w-0 default:max-mobile:hidden mobile:max-tablet:collapse mobile:max-tablet:max-w-0 mobile:max-tablet:hidden tablet:max-laptop:collapse tablet:max-laptop:max-w-0 tablet:max-laptop:hidden whitespace-nowrap\"><p class=\"f1-text font-titillium tracking-normal font-normal non-italic normal-case leading-none f1-text__micro text-fs-15px\">1:28:20.227</p></td></tr>,\n",
       " <tr class=\"bg-brand-white\"><td class=\"p-normal whitespace-nowrap\"><p class=\"f1-text font-titillium tracking-normal font-normal non-italic normal-case leading-none f1-text__micro text-fs-15px\"><a class=\"underline underline-offset-normal decoration-1 decoration-greyLight hover:decoration-brand-primary\" href=\"races/1239/austria/race-result\">Austria</a></p></td><td class=\"p-normal default:max-mobile:collapse default:max-mobile:max-w-0 default:max-mobile:hidden mobile:max-tablet:collapse mobile:max-tablet:max-w-0 mobile:max-tablet:hidden whitespace-nowrap\"><p class=\"f1-text font-titillium tracking-normal font-normal non-italic normal-case leading-none f1-text__micro text-fs-15px\">30 Jun 2024</p></td><td class=\"p-normal whitespace-nowrap\"><p class=\"f1-text font-titillium tracking-normal font-normal non-italic normal-case leading-none f1-text__micro text-fs-15px\"><span class=\"max-desktop:hidden\">George</span> <span class=\"max-tablet:hidden\">Russell</span><span class=\"tablet:hidden\">RUS</span></p></td><td class=\"p-normal whitespace-nowrap\"><p class=\"f1-text font-titillium tracking-normal font-normal non-italic normal-case leading-none f1-text__micro text-fs-15px\">Mercedes</p></td><td class=\"p-normal default:max-mobile:collapse default:max-mobile:max-w-0 default:max-mobile:hidden mobile:max-tablet:collapse mobile:max-tablet:max-w-0 mobile:max-tablet:hidden whitespace-nowrap\"><p class=\"f1-text font-titillium tracking-normal font-normal non-italic normal-case leading-none f1-text__micro text-fs-15px\">71</p></td><td class=\"p-normal default:max-mobile:collapse default:max-mobile:max-w-0 default:max-mobile:hidden mobile:max-tablet:collapse mobile:max-tablet:max-w-0 mobile:max-tablet:hidden tablet:max-laptop:collapse tablet:max-laptop:max-w-0 tablet:max-laptop:hidden whitespace-nowrap\"><p class=\"f1-text font-titillium tracking-normal font-normal non-italic normal-case leading-none f1-text__micro text-fs-15px\">1:24:22.798</p></td></tr>,\n",
       " <tr class=\"bg-grey-10\"><td class=\"p-normal whitespace-nowrap\"><p class=\"f1-text font-titillium tracking-normal font-normal non-italic normal-case leading-none f1-text__micro text-fs-15px\"><a class=\"underline underline-offset-normal decoration-1 decoration-greyLight hover:decoration-brand-primary\" href=\"races/1240/great-britain/race-result\">Great Britain</a></p></td><td class=\"p-normal default:max-mobile:collapse default:max-mobile:max-w-0 default:max-mobile:hidden mobile:max-tablet:collapse mobile:max-tablet:max-w-0 mobile:max-tablet:hidden whitespace-nowrap\"><p class=\"f1-text font-titillium tracking-normal font-normal non-italic normal-case leading-none f1-text__micro text-fs-15px\">07 Jul 2024</p></td><td class=\"p-normal whitespace-nowrap\"><p class=\"f1-text font-titillium tracking-normal font-normal non-italic normal-case leading-none f1-text__micro text-fs-15px\"><span class=\"max-desktop:hidden\">Lewis</span> <span class=\"max-tablet:hidden\">Hamilton</span><span class=\"tablet:hidden\">HAM</span></p></td><td class=\"p-normal whitespace-nowrap\"><p class=\"f1-text font-titillium tracking-normal font-normal non-italic normal-case leading-none f1-text__micro text-fs-15px\">Mercedes</p></td><td class=\"p-normal default:max-mobile:collapse default:max-mobile:max-w-0 default:max-mobile:hidden mobile:max-tablet:collapse mobile:max-tablet:max-w-0 mobile:max-tablet:hidden whitespace-nowrap\"><p class=\"f1-text font-titillium tracking-normal font-normal non-italic normal-case leading-none f1-text__micro text-fs-15px\">52</p></td><td class=\"p-normal default:max-mobile:collapse default:max-mobile:max-w-0 default:max-mobile:hidden mobile:max-tablet:collapse mobile:max-tablet:max-w-0 mobile:max-tablet:hidden tablet:max-laptop:collapse tablet:max-laptop:max-w-0 tablet:max-laptop:hidden whitespace-nowrap\"><p class=\"f1-text font-titillium tracking-normal font-normal non-italic normal-case leading-none f1-text__micro text-fs-15px\">1:22:27.059</p></td></tr>,\n",
       " <tr class=\"bg-brand-white\"><td class=\"p-normal whitespace-nowrap\"><p class=\"f1-text font-titillium tracking-normal font-normal non-italic normal-case leading-none f1-text__micro text-fs-15px\"><a class=\"underline underline-offset-normal decoration-1 decoration-greyLight hover:decoration-brand-primary\" href=\"races/1241/hungary/race-result\">Hungary</a></p></td><td class=\"p-normal default:max-mobile:collapse default:max-mobile:max-w-0 default:max-mobile:hidden mobile:max-tablet:collapse mobile:max-tablet:max-w-0 mobile:max-tablet:hidden whitespace-nowrap\"><p class=\"f1-text font-titillium tracking-normal font-normal non-italic normal-case leading-none f1-text__micro text-fs-15px\">21 Jul 2024</p></td><td class=\"p-normal whitespace-nowrap\"><p class=\"f1-text font-titillium tracking-normal font-normal non-italic normal-case leading-none f1-text__micro text-fs-15px\"><span class=\"max-desktop:hidden\">Oscar</span> <span class=\"max-tablet:hidden\">Piastri</span><span class=\"tablet:hidden\">PIA</span></p></td><td class=\"p-normal whitespace-nowrap\"><p class=\"f1-text font-titillium tracking-normal font-normal non-italic normal-case leading-none f1-text__micro text-fs-15px\">McLaren Mercedes</p></td><td class=\"p-normal default:max-mobile:collapse default:max-mobile:max-w-0 default:max-mobile:hidden mobile:max-tablet:collapse mobile:max-tablet:max-w-0 mobile:max-tablet:hidden whitespace-nowrap\"><p class=\"f1-text font-titillium tracking-normal font-normal non-italic normal-case leading-none f1-text__micro text-fs-15px\">70</p></td><td class=\"p-normal default:max-mobile:collapse default:max-mobile:max-w-0 default:max-mobile:hidden mobile:max-tablet:collapse mobile:max-tablet:max-w-0 mobile:max-tablet:hidden tablet:max-laptop:collapse tablet:max-laptop:max-w-0 tablet:max-laptop:hidden whitespace-nowrap\"><p class=\"f1-text font-titillium tracking-normal font-normal non-italic normal-case leading-none f1-text__micro text-fs-15px\">1:38:01.989</p></td></tr>,\n",
       " <tr class=\"bg-grey-10\"><td class=\"p-normal whitespace-nowrap\"><p class=\"f1-text font-titillium tracking-normal font-normal non-italic normal-case leading-none f1-text__micro text-fs-15px\"><a class=\"underline underline-offset-normal decoration-1 decoration-greyLight hover:decoration-brand-primary\" href=\"races/1242/belgium/race-result\">Belgium</a></p></td><td class=\"p-normal default:max-mobile:collapse default:max-mobile:max-w-0 default:max-mobile:hidden mobile:max-tablet:collapse mobile:max-tablet:max-w-0 mobile:max-tablet:hidden whitespace-nowrap\"><p class=\"f1-text font-titillium tracking-normal font-normal non-italic normal-case leading-none f1-text__micro text-fs-15px\">28 Jul 2024</p></td><td class=\"p-normal whitespace-nowrap\"><p class=\"f1-text font-titillium tracking-normal font-normal non-italic normal-case leading-none f1-text__micro text-fs-15px\"><span class=\"max-desktop:hidden\">Lewis</span> <span class=\"max-tablet:hidden\">Hamilton</span><span class=\"tablet:hidden\">HAM</span></p></td><td class=\"p-normal whitespace-nowrap\"><p class=\"f1-text font-titillium tracking-normal font-normal non-italic normal-case leading-none f1-text__micro text-fs-15px\">Mercedes</p></td><td class=\"p-normal default:max-mobile:collapse default:max-mobile:max-w-0 default:max-mobile:hidden mobile:max-tablet:collapse mobile:max-tablet:max-w-0 mobile:max-tablet:hidden whitespace-nowrap\"><p class=\"f1-text font-titillium tracking-normal font-normal non-italic normal-case leading-none f1-text__micro text-fs-15px\">44</p></td><td class=\"p-normal default:max-mobile:collapse default:max-mobile:max-w-0 default:max-mobile:hidden mobile:max-tablet:collapse mobile:max-tablet:max-w-0 mobile:max-tablet:hidden tablet:max-laptop:collapse tablet:max-laptop:max-w-0 tablet:max-laptop:hidden whitespace-nowrap\"><p class=\"f1-text font-titillium tracking-normal font-normal non-italic normal-case leading-none f1-text__micro text-fs-15px\">1:19:57.566</p></td></tr>,\n",
       " <tr class=\"bg-brand-white\"><td class=\"p-normal whitespace-nowrap\"><p class=\"f1-text font-titillium tracking-normal font-normal non-italic normal-case leading-none f1-text__micro text-fs-15px\"><a class=\"underline underline-offset-normal decoration-1 decoration-greyLight hover:decoration-brand-primary\" href=\"races/1243/netherlands/race-result\">Netherlands</a></p></td><td class=\"p-normal default:max-mobile:collapse default:max-mobile:max-w-0 default:max-mobile:hidden mobile:max-tablet:collapse mobile:max-tablet:max-w-0 mobile:max-tablet:hidden whitespace-nowrap\"><p class=\"f1-text font-titillium tracking-normal font-normal non-italic normal-case leading-none f1-text__micro text-fs-15px\">25 Aug 2024</p></td><td class=\"p-normal whitespace-nowrap\"><p class=\"f1-text font-titillium tracking-normal font-normal non-italic normal-case leading-none f1-text__micro text-fs-15px\"><span class=\"max-desktop:hidden\">Lando</span> <span class=\"max-tablet:hidden\">Norris</span><span class=\"tablet:hidden\">NOR</span></p></td><td class=\"p-normal whitespace-nowrap\"><p class=\"f1-text font-titillium tracking-normal font-normal non-italic normal-case leading-none f1-text__micro text-fs-15px\">McLaren Mercedes</p></td><td class=\"p-normal default:max-mobile:collapse default:max-mobile:max-w-0 default:max-mobile:hidden mobile:max-tablet:collapse mobile:max-tablet:max-w-0 mobile:max-tablet:hidden whitespace-nowrap\"><p class=\"f1-text font-titillium tracking-normal font-normal non-italic normal-case leading-none f1-text__micro text-fs-15px\">72</p></td><td class=\"p-normal default:max-mobile:collapse default:max-mobile:max-w-0 default:max-mobile:hidden mobile:max-tablet:collapse mobile:max-tablet:max-w-0 mobile:max-tablet:hidden tablet:max-laptop:collapse tablet:max-laptop:max-w-0 tablet:max-laptop:hidden whitespace-nowrap\"><p class=\"f1-text font-titillium tracking-normal font-normal non-italic normal-case leading-none f1-text__micro text-fs-15px\">1:30:45.519</p></td></tr>,\n",
       " <tr class=\"bg-grey-10\"><td class=\"p-normal whitespace-nowrap\"><p class=\"f1-text font-titillium tracking-normal font-normal non-italic normal-case leading-none f1-text__micro text-fs-15px\"><a class=\"underline underline-offset-normal decoration-1 decoration-greyLight hover:decoration-brand-primary\" href=\"races/1244/italy/race-result\">Italy</a></p></td><td class=\"p-normal default:max-mobile:collapse default:max-mobile:max-w-0 default:max-mobile:hidden mobile:max-tablet:collapse mobile:max-tablet:max-w-0 mobile:max-tablet:hidden whitespace-nowrap\"><p class=\"f1-text font-titillium tracking-normal font-normal non-italic normal-case leading-none f1-text__micro text-fs-15px\">01 Sep 2024</p></td><td class=\"p-normal whitespace-nowrap\"><p class=\"f1-text font-titillium tracking-normal font-normal non-italic normal-case leading-none f1-text__micro text-fs-15px\"><span class=\"max-desktop:hidden\">Charles</span> <span class=\"max-tablet:hidden\">Leclerc</span><span class=\"tablet:hidden\">LEC</span></p></td><td class=\"p-normal whitespace-nowrap\"><p class=\"f1-text font-titillium tracking-normal font-normal non-italic normal-case leading-none f1-text__micro text-fs-15px\">Ferrari</p></td><td class=\"p-normal default:max-mobile:collapse default:max-mobile:max-w-0 default:max-mobile:hidden mobile:max-tablet:collapse mobile:max-tablet:max-w-0 mobile:max-tablet:hidden whitespace-nowrap\"><p class=\"f1-text font-titillium tracking-normal font-normal non-italic normal-case leading-none f1-text__micro text-fs-15px\">53</p></td><td class=\"p-normal default:max-mobile:collapse default:max-mobile:max-w-0 default:max-mobile:hidden mobile:max-tablet:collapse mobile:max-tablet:max-w-0 mobile:max-tablet:hidden tablet:max-laptop:collapse tablet:max-laptop:max-w-0 tablet:max-laptop:hidden whitespace-nowrap\"><p class=\"f1-text font-titillium tracking-normal font-normal non-italic normal-case leading-none f1-text__micro text-fs-15px\">1:14:40.727</p></td></tr>,\n",
       " <tr class=\"bg-brand-white\"><td class=\"p-normal whitespace-nowrap\"><p class=\"f1-text font-titillium tracking-normal font-normal non-italic normal-case leading-none f1-text__micro text-fs-15px\"><a class=\"underline underline-offset-normal decoration-1 decoration-greyLight hover:decoration-brand-primary\" href=\"races/1245/azerbaijan/race-result\">Azerbaijan</a></p></td><td class=\"p-normal default:max-mobile:collapse default:max-mobile:max-w-0 default:max-mobile:hidden mobile:max-tablet:collapse mobile:max-tablet:max-w-0 mobile:max-tablet:hidden whitespace-nowrap\"><p class=\"f1-text font-titillium tracking-normal font-normal non-italic normal-case leading-none f1-text__micro text-fs-15px\">15 Sep 2024</p></td><td class=\"p-normal whitespace-nowrap\"><p class=\"f1-text font-titillium tracking-normal font-normal non-italic normal-case leading-none f1-text__micro text-fs-15px\"><span class=\"max-desktop:hidden\">Oscar</span> <span class=\"max-tablet:hidden\">Piastri</span><span class=\"tablet:hidden\">PIA</span></p></td><td class=\"p-normal whitespace-nowrap\"><p class=\"f1-text font-titillium tracking-normal font-normal non-italic normal-case leading-none f1-text__micro text-fs-15px\">McLaren Mercedes</p></td><td class=\"p-normal default:max-mobile:collapse default:max-mobile:max-w-0 default:max-mobile:hidden mobile:max-tablet:collapse mobile:max-tablet:max-w-0 mobile:max-tablet:hidden whitespace-nowrap\"><p class=\"f1-text font-titillium tracking-normal font-normal non-italic normal-case leading-none f1-text__micro text-fs-15px\">51</p></td><td class=\"p-normal default:max-mobile:collapse default:max-mobile:max-w-0 default:max-mobile:hidden mobile:max-tablet:collapse mobile:max-tablet:max-w-0 mobile:max-tablet:hidden tablet:max-laptop:collapse tablet:max-laptop:max-w-0 tablet:max-laptop:hidden whitespace-nowrap\"><p class=\"f1-text font-titillium tracking-normal font-normal non-italic normal-case leading-none f1-text__micro text-fs-15px\">1:32:58.007</p></td></tr>,\n",
       " <tr class=\"bg-grey-10\"><td class=\"p-normal whitespace-nowrap\"><p class=\"f1-text font-titillium tracking-normal font-normal non-italic normal-case leading-none f1-text__micro text-fs-15px\"><a class=\"underline underline-offset-normal decoration-1 decoration-greyLight hover:decoration-brand-primary\" href=\"races/1246/singapore/race-result\">Singapore</a></p></td><td class=\"p-normal default:max-mobile:collapse default:max-mobile:max-w-0 default:max-mobile:hidden mobile:max-tablet:collapse mobile:max-tablet:max-w-0 mobile:max-tablet:hidden whitespace-nowrap\"><p class=\"f1-text font-titillium tracking-normal font-normal non-italic normal-case leading-none f1-text__micro text-fs-15px\">22 Sep 2024</p></td><td class=\"p-normal whitespace-nowrap\"><p class=\"f1-text font-titillium tracking-normal font-normal non-italic normal-case leading-none f1-text__micro text-fs-15px\"><span class=\"max-desktop:hidden\">Lando</span> <span class=\"max-tablet:hidden\">Norris</span><span class=\"tablet:hidden\">NOR</span></p></td><td class=\"p-normal whitespace-nowrap\"><p class=\"f1-text font-titillium tracking-normal font-normal non-italic normal-case leading-none f1-text__micro text-fs-15px\">McLaren Mercedes</p></td><td class=\"p-normal default:max-mobile:collapse default:max-mobile:max-w-0 default:max-mobile:hidden mobile:max-tablet:collapse mobile:max-tablet:max-w-0 mobile:max-tablet:hidden whitespace-nowrap\"><p class=\"f1-text font-titillium tracking-normal font-normal non-italic normal-case leading-none f1-text__micro text-fs-15px\">62</p></td><td class=\"p-normal default:max-mobile:collapse default:max-mobile:max-w-0 default:max-mobile:hidden mobile:max-tablet:collapse mobile:max-tablet:max-w-0 mobile:max-tablet:hidden tablet:max-laptop:collapse tablet:max-laptop:max-w-0 tablet:max-laptop:hidden whitespace-nowrap\"><p class=\"f1-text font-titillium tracking-normal font-normal non-italic normal-case leading-none f1-text__micro text-fs-15px\">1:40:52.571</p></td></tr>,\n",
       " <tr class=\"bg-brand-white\"><td class=\"p-normal whitespace-nowrap\"><p class=\"f1-text font-titillium tracking-normal font-normal non-italic normal-case leading-none f1-text__micro text-fs-15px\"><a class=\"underline underline-offset-normal decoration-1 decoration-greyLight hover:decoration-brand-primary\" href=\"races/1247/united-states/race-result\">United States</a></p></td><td class=\"p-normal default:max-mobile:collapse default:max-mobile:max-w-0 default:max-mobile:hidden mobile:max-tablet:collapse mobile:max-tablet:max-w-0 mobile:max-tablet:hidden whitespace-nowrap\"><p class=\"f1-text font-titillium tracking-normal font-normal non-italic normal-case leading-none f1-text__micro text-fs-15px\">20 Oct 2024</p></td><td class=\"p-normal whitespace-nowrap\"><p class=\"f1-text font-titillium tracking-normal font-normal non-italic normal-case leading-none f1-text__micro text-fs-15px\"><span class=\"max-desktop:hidden\">Charles</span> <span class=\"max-tablet:hidden\">Leclerc</span><span class=\"tablet:hidden\">LEC</span></p></td><td class=\"p-normal whitespace-nowrap\"><p class=\"f1-text font-titillium tracking-normal font-normal non-italic normal-case leading-none f1-text__micro text-fs-15px\">Ferrari</p></td><td class=\"p-normal default:max-mobile:collapse default:max-mobile:max-w-0 default:max-mobile:hidden mobile:max-tablet:collapse mobile:max-tablet:max-w-0 mobile:max-tablet:hidden whitespace-nowrap\"><p class=\"f1-text font-titillium tracking-normal font-normal non-italic normal-case leading-none f1-text__micro text-fs-15px\">56</p></td><td class=\"p-normal default:max-mobile:collapse default:max-mobile:max-w-0 default:max-mobile:hidden mobile:max-tablet:collapse mobile:max-tablet:max-w-0 mobile:max-tablet:hidden tablet:max-laptop:collapse tablet:max-laptop:max-w-0 tablet:max-laptop:hidden whitespace-nowrap\"><p class=\"f1-text font-titillium tracking-normal font-normal non-italic normal-case leading-none f1-text__micro text-fs-15px\">1:35:09.639</p></td></tr>,\n",
       " <tr class=\"bg-grey-10\"><td class=\"p-normal whitespace-nowrap\"><p class=\"f1-text font-titillium tracking-normal font-normal non-italic normal-case leading-none f1-text__micro text-fs-15px\"><a class=\"underline underline-offset-normal decoration-1 decoration-greyLight hover:decoration-brand-primary\" href=\"races/1248/mexico/race-result\">Mexico</a></p></td><td class=\"p-normal default:max-mobile:collapse default:max-mobile:max-w-0 default:max-mobile:hidden mobile:max-tablet:collapse mobile:max-tablet:max-w-0 mobile:max-tablet:hidden whitespace-nowrap\"><p class=\"f1-text font-titillium tracking-normal font-normal non-italic normal-case leading-none f1-text__micro text-fs-15px\">27 Oct 2024</p></td><td class=\"p-normal whitespace-nowrap\"><p class=\"f1-text font-titillium tracking-normal font-normal non-italic normal-case leading-none f1-text__micro text-fs-15px\"><span class=\"max-desktop:hidden\">Carlos</span> <span class=\"max-tablet:hidden\">Sainz</span><span class=\"tablet:hidden\">SAI</span></p></td><td class=\"p-normal whitespace-nowrap\"><p class=\"f1-text font-titillium tracking-normal font-normal non-italic normal-case leading-none f1-text__micro text-fs-15px\">Ferrari</p></td><td class=\"p-normal default:max-mobile:collapse default:max-mobile:max-w-0 default:max-mobile:hidden mobile:max-tablet:collapse mobile:max-tablet:max-w-0 mobile:max-tablet:hidden whitespace-nowrap\"><p class=\"f1-text font-titillium tracking-normal font-normal non-italic normal-case leading-none f1-text__micro text-fs-15px\">71</p></td><td class=\"p-normal default:max-mobile:collapse default:max-mobile:max-w-0 default:max-mobile:hidden mobile:max-tablet:collapse mobile:max-tablet:max-w-0 mobile:max-tablet:hidden tablet:max-laptop:collapse tablet:max-laptop:max-w-0 tablet:max-laptop:hidden whitespace-nowrap\"><p class=\"f1-text font-titillium tracking-normal font-normal non-italic normal-case leading-none f1-text__micro text-fs-15px\">1:40:55.800</p></td></tr>,\n",
       " <tr class=\"bg-brand-white\"><td class=\"p-normal whitespace-nowrap\"><p class=\"f1-text font-titillium tracking-normal font-normal non-italic normal-case leading-none f1-text__micro text-fs-15px\"><a class=\"underline underline-offset-normal decoration-1 decoration-greyLight hover:decoration-brand-primary\" href=\"races/1249/brazil/race-result\">Brazil</a></p></td><td class=\"p-normal default:max-mobile:collapse default:max-mobile:max-w-0 default:max-mobile:hidden mobile:max-tablet:collapse mobile:max-tablet:max-w-0 mobile:max-tablet:hidden whitespace-nowrap\"><p class=\"f1-text font-titillium tracking-normal font-normal non-italic normal-case leading-none f1-text__micro text-fs-15px\">03 Nov 2024</p></td><td class=\"p-normal whitespace-nowrap\"><p class=\"f1-text font-titillium tracking-normal font-normal non-italic normal-case leading-none f1-text__micro text-fs-15px\"><span class=\"max-desktop:hidden\">Max</span> <span class=\"max-tablet:hidden\">Verstappen</span><span class=\"tablet:hidden\">VER</span></p></td><td class=\"p-normal whitespace-nowrap\"><p class=\"f1-text font-titillium tracking-normal font-normal non-italic normal-case leading-none f1-text__micro text-fs-15px\">Red Bull Racing Honda RBPT</p></td><td class=\"p-normal default:max-mobile:collapse default:max-mobile:max-w-0 default:max-mobile:hidden mobile:max-tablet:collapse mobile:max-tablet:max-w-0 mobile:max-tablet:hidden whitespace-nowrap\"><p class=\"f1-text font-titillium tracking-normal font-normal non-italic normal-case leading-none f1-text__micro text-fs-15px\">69</p></td><td class=\"p-normal default:max-mobile:collapse default:max-mobile:max-w-0 default:max-mobile:hidden mobile:max-tablet:collapse mobile:max-tablet:max-w-0 mobile:max-tablet:hidden tablet:max-laptop:collapse tablet:max-laptop:max-w-0 tablet:max-laptop:hidden whitespace-nowrap\"><p class=\"f1-text font-titillium tracking-normal font-normal non-italic normal-case leading-none f1-text__micro text-fs-15px\">2:06:54.430</p></td></tr>,\n",
       " <tr class=\"bg-grey-10\"><td class=\"p-normal whitespace-nowrap\"><p class=\"f1-text font-titillium tracking-normal font-normal non-italic normal-case leading-none f1-text__micro text-fs-15px\"><a class=\"underline underline-offset-normal decoration-1 decoration-greyLight hover:decoration-brand-primary\" href=\"races/1250/las-vegas/race-result\">Las Vegas</a></p></td><td class=\"p-normal default:max-mobile:collapse default:max-mobile:max-w-0 default:max-mobile:hidden mobile:max-tablet:collapse mobile:max-tablet:max-w-0 mobile:max-tablet:hidden whitespace-nowrap\"><p class=\"f1-text font-titillium tracking-normal font-normal non-italic normal-case leading-none f1-text__micro text-fs-15px\">23 Nov 2024</p></td><td class=\"p-normal whitespace-nowrap\"><p class=\"f1-text font-titillium tracking-normal font-normal non-italic normal-case leading-none f1-text__micro text-fs-15px\"><span class=\"max-desktop:hidden\">George</span> <span class=\"max-tablet:hidden\">Russell</span><span class=\"tablet:hidden\">RUS</span></p></td><td class=\"p-normal whitespace-nowrap\"><p class=\"f1-text font-titillium tracking-normal font-normal non-italic normal-case leading-none f1-text__micro text-fs-15px\">Mercedes</p></td><td class=\"p-normal default:max-mobile:collapse default:max-mobile:max-w-0 default:max-mobile:hidden mobile:max-tablet:collapse mobile:max-tablet:max-w-0 mobile:max-tablet:hidden whitespace-nowrap\"><p class=\"f1-text font-titillium tracking-normal font-normal non-italic normal-case leading-none f1-text__micro text-fs-15px\">50</p></td><td class=\"p-normal default:max-mobile:collapse default:max-mobile:max-w-0 default:max-mobile:hidden mobile:max-tablet:collapse mobile:max-tablet:max-w-0 mobile:max-tablet:hidden tablet:max-laptop:collapse tablet:max-laptop:max-w-0 tablet:max-laptop:hidden whitespace-nowrap\"><p class=\"f1-text font-titillium tracking-normal font-normal non-italic normal-case leading-none f1-text__micro text-fs-15px\">1:22:05.969</p></td></tr>,\n",
       " <tr class=\"bg-brand-white\"><td class=\"p-normal whitespace-nowrap\"><p class=\"f1-text font-titillium tracking-normal font-normal non-italic normal-case leading-none f1-text__micro text-fs-15px\"><a class=\"underline underline-offset-normal decoration-1 decoration-greyLight hover:decoration-brand-primary\" href=\"races/1251/qatar/race-result\">Qatar</a></p></td><td class=\"p-normal default:max-mobile:collapse default:max-mobile:max-w-0 default:max-mobile:hidden mobile:max-tablet:collapse mobile:max-tablet:max-w-0 mobile:max-tablet:hidden whitespace-nowrap\"><p class=\"f1-text font-titillium tracking-normal font-normal non-italic normal-case leading-none f1-text__micro text-fs-15px\">01 Dec 2024</p></td><td class=\"p-normal whitespace-nowrap\"><p class=\"f1-text font-titillium tracking-normal font-normal non-italic normal-case leading-none f1-text__micro text-fs-15px\"><span class=\"max-desktop:hidden\">Max</span> <span class=\"max-tablet:hidden\">Verstappen</span><span class=\"tablet:hidden\">VER</span></p></td><td class=\"p-normal whitespace-nowrap\"><p class=\"f1-text font-titillium tracking-normal font-normal non-italic normal-case leading-none f1-text__micro text-fs-15px\">Red Bull Racing Honda RBPT</p></td><td class=\"p-normal default:max-mobile:collapse default:max-mobile:max-w-0 default:max-mobile:hidden mobile:max-tablet:collapse mobile:max-tablet:max-w-0 mobile:max-tablet:hidden whitespace-nowrap\"><p class=\"f1-text font-titillium tracking-normal font-normal non-italic normal-case leading-none f1-text__micro text-fs-15px\">57</p></td><td class=\"p-normal default:max-mobile:collapse default:max-mobile:max-w-0 default:max-mobile:hidden mobile:max-tablet:collapse mobile:max-tablet:max-w-0 mobile:max-tablet:hidden tablet:max-laptop:collapse tablet:max-laptop:max-w-0 tablet:max-laptop:hidden whitespace-nowrap\"><p class=\"f1-text font-titillium tracking-normal font-normal non-italic normal-case leading-none f1-text__micro text-fs-15px\">1:31:05.323</p></td></tr>,\n",
       " <tr class=\"bg-grey-10\"><td class=\"p-normal whitespace-nowrap\"><p class=\"f1-text font-titillium tracking-normal font-normal non-italic normal-case leading-none f1-text__micro text-fs-15px\"><a class=\"underline underline-offset-normal decoration-1 decoration-greyLight hover:decoration-brand-primary\" href=\"races/1252/abu-dhabi/race-result\">Abu Dhabi</a></p></td><td class=\"p-normal default:max-mobile:collapse default:max-mobile:max-w-0 default:max-mobile:hidden mobile:max-tablet:collapse mobile:max-tablet:max-w-0 mobile:max-tablet:hidden whitespace-nowrap\"><p class=\"f1-text font-titillium tracking-normal font-normal non-italic normal-case leading-none f1-text__micro text-fs-15px\">08 Dec 2024</p></td><td class=\"p-normal whitespace-nowrap\"><p class=\"f1-text font-titillium tracking-normal font-normal non-italic normal-case leading-none f1-text__micro text-fs-15px\"><span class=\"max-desktop:hidden\">Lando</span> <span class=\"max-tablet:hidden\">Norris</span><span class=\"tablet:hidden\">NOR</span></p></td><td class=\"p-normal whitespace-nowrap\"><p class=\"f1-text font-titillium tracking-normal font-normal non-italic normal-case leading-none f1-text__micro text-fs-15px\">McLaren Mercedes</p></td><td class=\"p-normal default:max-mobile:collapse default:max-mobile:max-w-0 default:max-mobile:hidden mobile:max-tablet:collapse mobile:max-tablet:max-w-0 mobile:max-tablet:hidden whitespace-nowrap\"><p class=\"f1-text font-titillium tracking-normal font-normal non-italic normal-case leading-none f1-text__micro text-fs-15px\">58</p></td><td class=\"p-normal default:max-mobile:collapse default:max-mobile:max-w-0 default:max-mobile:hidden mobile:max-tablet:collapse mobile:max-tablet:max-w-0 mobile:max-tablet:hidden tablet:max-laptop:collapse tablet:max-laptop:max-w-0 tablet:max-laptop:hidden whitespace-nowrap\"><p class=\"f1-text font-titillium tracking-normal font-normal non-italic normal-case leading-none f1-text__micro text-fs-15px\">1:26:33.291</p></td></tr>]"
      ]
     },
     "execution_count": 39,
     "metadata": {},
     "output_type": "execute_result"
    }
   ],
   "source": [
    "column_data = soup.find_all('tr')\n"
   ]
  },
  {
   "cell_type": "code",
   "execution_count": 51,
   "id": "9d182491-0176-45ea-a50d-bca685063395",
   "metadata": {},
   "outputs": [
    {
     "name": "stdout",
     "output_type": "stream",
     "text": [
      "['Bahrain', '02 Mar 2024', 'MaxVerstappenVER', 'Red Bull Racing Honda RBPT', '57', '1:31:44.742']\n",
      "['Saudi Arabia', '09 Mar 2024', 'MaxVerstappenVER', 'Red Bull Racing Honda RBPT', '50', '1:20:43.273']\n",
      "['Australia', '24 Mar 2024', 'CarlosSainzSAI', 'Ferrari', '58', '1:20:26.843']\n",
      "['Japan', '07 Apr 2024', 'MaxVerstappenVER', 'Red Bull Racing Honda RBPT', '53', '1:54:23.566']\n",
      "['China', '21 Apr 2024', 'MaxVerstappenVER', 'Red Bull Racing Honda RBPT', '56', '1:40:52.554']\n",
      "['Miami', '05 May 2024', 'LandoNorrisNOR', 'McLaren Mercedes', '57', '1:30:49.876']\n",
      "['Emilia-Romagna', '19 May 2024', 'MaxVerstappenVER', 'Red Bull Racing Honda RBPT', '63', '1:25:25.252']\n",
      "['Monaco', '26 May 2024', 'CharlesLeclercLEC', 'Ferrari', '78', '2:23:15.554']\n",
      "['Canada', '09 Jun 2024', 'MaxVerstappenVER', 'Red Bull Racing Honda RBPT', '70', '1:45:47.927']\n",
      "['Spain', '23 Jun 2024', 'MaxVerstappenVER', 'Red Bull Racing Honda RBPT', '66', '1:28:20.227']\n",
      "['Austria', '30 Jun 2024', 'GeorgeRussellRUS', 'Mercedes', '71', '1:24:22.798']\n",
      "['Great Britain', '07 Jul 2024', 'LewisHamiltonHAM', 'Mercedes', '52', '1:22:27.059']\n",
      "['Hungary', '21 Jul 2024', 'OscarPiastriPIA', 'McLaren Mercedes', '70', '1:38:01.989']\n",
      "['Belgium', '28 Jul 2024', 'LewisHamiltonHAM', 'Mercedes', '44', '1:19:57.566']\n",
      "['Netherlands', '25 Aug 2024', 'LandoNorrisNOR', 'McLaren Mercedes', '72', '1:30:45.519']\n",
      "['Italy', '01 Sep 2024', 'CharlesLeclercLEC', 'Ferrari', '53', '1:14:40.727']\n",
      "['Azerbaijan', '15 Sep 2024', 'OscarPiastriPIA', 'McLaren Mercedes', '51', '1:32:58.007']\n",
      "['Singapore', '22 Sep 2024', 'LandoNorrisNOR', 'McLaren Mercedes', '62', '1:40:52.571']\n",
      "['United States', '20 Oct 2024', 'CharlesLeclercLEC', 'Ferrari', '56', '1:35:09.639']\n",
      "['Mexico', '27 Oct 2024', 'CarlosSainzSAI', 'Ferrari', '71', '1:40:55.800']\n",
      "['Brazil', '03 Nov 2024', 'MaxVerstappenVER', 'Red Bull Racing Honda RBPT', '69', '2:06:54.430']\n",
      "['Las Vegas', '23 Nov 2024', 'GeorgeRussellRUS', 'Mercedes', '50', '1:22:05.969']\n",
      "['Qatar', '01 Dec 2024', 'MaxVerstappenVER', 'Red Bull Racing Honda RBPT', '57', '1:31:05.323']\n",
      "['Abu Dhabi', '08 Dec 2024', 'LandoNorrisNOR', 'McLaren Mercedes', '58', '1:26:33.291']\n"
     ]
    }
   ],
   "source": [
    "for row in column_data[1:]:\n",
    "    row_data = row.find_all('td')\n",
    "    individual_row_data = [data.get_text(strip=True).replace('\\xa0', ' ') for data in row_data]\n",
    "    print(individual_row_data)\n",
    "    length = len(df)\n",
    "    df.loc[length] = individual_row_data"
   ]
  },
  {
   "cell_type": "code",
   "execution_count": 54,
   "id": "846ac455-f54d-4868-bcb1-a58a34d91b85",
   "metadata": {},
   "outputs": [
    {
     "data": {
      "text/html": [
       "<div>\n",
       "<style scoped>\n",
       "    .dataframe tbody tr th:only-of-type {\n",
       "        vertical-align: middle;\n",
       "    }\n",
       "\n",
       "    .dataframe tbody tr th {\n",
       "        vertical-align: top;\n",
       "    }\n",
       "\n",
       "    .dataframe thead th {\n",
       "        text-align: right;\n",
       "    }\n",
       "</style>\n",
       "<table border=\"1\" class=\"dataframe\">\n",
       "  <thead>\n",
       "    <tr style=\"text-align: right;\">\n",
       "      <th></th>\n",
       "      <th>Grand Prix</th>\n",
       "      <th>Date</th>\n",
       "      <th>Winner</th>\n",
       "      <th>Car</th>\n",
       "      <th>Laps</th>\n",
       "      <th>Time</th>\n",
       "    </tr>\n",
       "  </thead>\n",
       "  <tbody>\n",
       "    <tr>\n",
       "      <th>0</th>\n",
       "      <td>Abu Dhabi</td>\n",
       "      <td>08 Dec 2024</td>\n",
       "      <td>LandoNorrisNOR</td>\n",
       "      <td>McLaren Mercedes</td>\n",
       "      <td>58</td>\n",
       "      <td>1:26:33.291</td>\n",
       "    </tr>\n",
       "    <tr>\n",
       "      <th>1</th>\n",
       "      <td>Bahrain</td>\n",
       "      <td>02 Mar 2024</td>\n",
       "      <td>MaxVerstappenVER</td>\n",
       "      <td>Red Bull Racing Honda RBPT</td>\n",
       "      <td>57</td>\n",
       "      <td>1:31:44.742</td>\n",
       "    </tr>\n",
       "    <tr>\n",
       "      <th>2</th>\n",
       "      <td>Saudi Arabia</td>\n",
       "      <td>09 Mar 2024</td>\n",
       "      <td>MaxVerstappenVER</td>\n",
       "      <td>Red Bull Racing Honda RBPT</td>\n",
       "      <td>50</td>\n",
       "      <td>1:20:43.273</td>\n",
       "    </tr>\n",
       "    <tr>\n",
       "      <th>3</th>\n",
       "      <td>Australia</td>\n",
       "      <td>24 Mar 2024</td>\n",
       "      <td>CarlosSainzSAI</td>\n",
       "      <td>Ferrari</td>\n",
       "      <td>58</td>\n",
       "      <td>1:20:26.843</td>\n",
       "    </tr>\n",
       "    <tr>\n",
       "      <th>4</th>\n",
       "      <td>Japan</td>\n",
       "      <td>07 Apr 2024</td>\n",
       "      <td>MaxVerstappenVER</td>\n",
       "      <td>Red Bull Racing Honda RBPT</td>\n",
       "      <td>53</td>\n",
       "      <td>1:54:23.566</td>\n",
       "    </tr>\n",
       "    <tr>\n",
       "      <th>5</th>\n",
       "      <td>China</td>\n",
       "      <td>21 Apr 2024</td>\n",
       "      <td>MaxVerstappenVER</td>\n",
       "      <td>Red Bull Racing Honda RBPT</td>\n",
       "      <td>56</td>\n",
       "      <td>1:40:52.554</td>\n",
       "    </tr>\n",
       "    <tr>\n",
       "      <th>6</th>\n",
       "      <td>Miami</td>\n",
       "      <td>05 May 2024</td>\n",
       "      <td>LandoNorrisNOR</td>\n",
       "      <td>McLaren Mercedes</td>\n",
       "      <td>57</td>\n",
       "      <td>1:30:49.876</td>\n",
       "    </tr>\n",
       "    <tr>\n",
       "      <th>7</th>\n",
       "      <td>Emilia-Romagna</td>\n",
       "      <td>19 May 2024</td>\n",
       "      <td>MaxVerstappenVER</td>\n",
       "      <td>Red Bull Racing Honda RBPT</td>\n",
       "      <td>63</td>\n",
       "      <td>1:25:25.252</td>\n",
       "    </tr>\n",
       "    <tr>\n",
       "      <th>8</th>\n",
       "      <td>Monaco</td>\n",
       "      <td>26 May 2024</td>\n",
       "      <td>CharlesLeclercLEC</td>\n",
       "      <td>Ferrari</td>\n",
       "      <td>78</td>\n",
       "      <td>2:23:15.554</td>\n",
       "    </tr>\n",
       "    <tr>\n",
       "      <th>9</th>\n",
       "      <td>Canada</td>\n",
       "      <td>09 Jun 2024</td>\n",
       "      <td>MaxVerstappenVER</td>\n",
       "      <td>Red Bull Racing Honda RBPT</td>\n",
       "      <td>70</td>\n",
       "      <td>1:45:47.927</td>\n",
       "    </tr>\n",
       "    <tr>\n",
       "      <th>10</th>\n",
       "      <td>Spain</td>\n",
       "      <td>23 Jun 2024</td>\n",
       "      <td>MaxVerstappenVER</td>\n",
       "      <td>Red Bull Racing Honda RBPT</td>\n",
       "      <td>66</td>\n",
       "      <td>1:28:20.227</td>\n",
       "    </tr>\n",
       "    <tr>\n",
       "      <th>11</th>\n",
       "      <td>Austria</td>\n",
       "      <td>30 Jun 2024</td>\n",
       "      <td>GeorgeRussellRUS</td>\n",
       "      <td>Mercedes</td>\n",
       "      <td>71</td>\n",
       "      <td>1:24:22.798</td>\n",
       "    </tr>\n",
       "    <tr>\n",
       "      <th>12</th>\n",
       "      <td>Great Britain</td>\n",
       "      <td>07 Jul 2024</td>\n",
       "      <td>LewisHamiltonHAM</td>\n",
       "      <td>Mercedes</td>\n",
       "      <td>52</td>\n",
       "      <td>1:22:27.059</td>\n",
       "    </tr>\n",
       "    <tr>\n",
       "      <th>13</th>\n",
       "      <td>Hungary</td>\n",
       "      <td>21 Jul 2024</td>\n",
       "      <td>OscarPiastriPIA</td>\n",
       "      <td>McLaren Mercedes</td>\n",
       "      <td>70</td>\n",
       "      <td>1:38:01.989</td>\n",
       "    </tr>\n",
       "    <tr>\n",
       "      <th>14</th>\n",
       "      <td>Belgium</td>\n",
       "      <td>28 Jul 2024</td>\n",
       "      <td>LewisHamiltonHAM</td>\n",
       "      <td>Mercedes</td>\n",
       "      <td>44</td>\n",
       "      <td>1:19:57.566</td>\n",
       "    </tr>\n",
       "    <tr>\n",
       "      <th>15</th>\n",
       "      <td>Netherlands</td>\n",
       "      <td>25 Aug 2024</td>\n",
       "      <td>LandoNorrisNOR</td>\n",
       "      <td>McLaren Mercedes</td>\n",
       "      <td>72</td>\n",
       "      <td>1:30:45.519</td>\n",
       "    </tr>\n",
       "    <tr>\n",
       "      <th>16</th>\n",
       "      <td>Italy</td>\n",
       "      <td>01 Sep 2024</td>\n",
       "      <td>CharlesLeclercLEC</td>\n",
       "      <td>Ferrari</td>\n",
       "      <td>53</td>\n",
       "      <td>1:14:40.727</td>\n",
       "    </tr>\n",
       "    <tr>\n",
       "      <th>17</th>\n",
       "      <td>Azerbaijan</td>\n",
       "      <td>15 Sep 2024</td>\n",
       "      <td>OscarPiastriPIA</td>\n",
       "      <td>McLaren Mercedes</td>\n",
       "      <td>51</td>\n",
       "      <td>1:32:58.007</td>\n",
       "    </tr>\n",
       "    <tr>\n",
       "      <th>18</th>\n",
       "      <td>Singapore</td>\n",
       "      <td>22 Sep 2024</td>\n",
       "      <td>LandoNorrisNOR</td>\n",
       "      <td>McLaren Mercedes</td>\n",
       "      <td>62</td>\n",
       "      <td>1:40:52.571</td>\n",
       "    </tr>\n",
       "    <tr>\n",
       "      <th>19</th>\n",
       "      <td>United States</td>\n",
       "      <td>20 Oct 2024</td>\n",
       "      <td>CharlesLeclercLEC</td>\n",
       "      <td>Ferrari</td>\n",
       "      <td>56</td>\n",
       "      <td>1:35:09.639</td>\n",
       "    </tr>\n",
       "    <tr>\n",
       "      <th>20</th>\n",
       "      <td>Mexico</td>\n",
       "      <td>27 Oct 2024</td>\n",
       "      <td>CarlosSainzSAI</td>\n",
       "      <td>Ferrari</td>\n",
       "      <td>71</td>\n",
       "      <td>1:40:55.800</td>\n",
       "    </tr>\n",
       "    <tr>\n",
       "      <th>21</th>\n",
       "      <td>Brazil</td>\n",
       "      <td>03 Nov 2024</td>\n",
       "      <td>MaxVerstappenVER</td>\n",
       "      <td>Red Bull Racing Honda RBPT</td>\n",
       "      <td>69</td>\n",
       "      <td>2:06:54.430</td>\n",
       "    </tr>\n",
       "    <tr>\n",
       "      <th>22</th>\n",
       "      <td>Las Vegas</td>\n",
       "      <td>23 Nov 2024</td>\n",
       "      <td>GeorgeRussellRUS</td>\n",
       "      <td>Mercedes</td>\n",
       "      <td>50</td>\n",
       "      <td>1:22:05.969</td>\n",
       "    </tr>\n",
       "    <tr>\n",
       "      <th>23</th>\n",
       "      <td>Qatar</td>\n",
       "      <td>01 Dec 2024</td>\n",
       "      <td>MaxVerstappenVER</td>\n",
       "      <td>Red Bull Racing Honda RBPT</td>\n",
       "      <td>57</td>\n",
       "      <td>1:31:05.323</td>\n",
       "    </tr>\n",
       "    <tr>\n",
       "      <th>24</th>\n",
       "      <td>Abu Dhabi</td>\n",
       "      <td>08 Dec 2024</td>\n",
       "      <td>LandoNorrisNOR</td>\n",
       "      <td>McLaren Mercedes</td>\n",
       "      <td>58</td>\n",
       "      <td>1:26:33.291</td>\n",
       "    </tr>\n",
       "  </tbody>\n",
       "</table>\n",
       "</div>"
      ],
      "text/plain": [
       "        Grand Prix         Date             Winner  \\\n",
       "0        Abu Dhabi  08 Dec 2024     LandoNorrisNOR   \n",
       "1          Bahrain  02 Mar 2024   MaxVerstappenVER   \n",
       "2     Saudi Arabia  09 Mar 2024   MaxVerstappenVER   \n",
       "3        Australia  24 Mar 2024     CarlosSainzSAI   \n",
       "4            Japan  07 Apr 2024   MaxVerstappenVER   \n",
       "5            China  21 Apr 2024   MaxVerstappenVER   \n",
       "6            Miami  05 May 2024     LandoNorrisNOR   \n",
       "7   Emilia-Romagna  19 May 2024   MaxVerstappenVER   \n",
       "8           Monaco  26 May 2024  CharlesLeclercLEC   \n",
       "9           Canada  09 Jun 2024   MaxVerstappenVER   \n",
       "10           Spain  23 Jun 2024   MaxVerstappenVER   \n",
       "11         Austria  30 Jun 2024   GeorgeRussellRUS   \n",
       "12   Great Britain  07 Jul 2024   LewisHamiltonHAM   \n",
       "13         Hungary  21 Jul 2024    OscarPiastriPIA   \n",
       "14         Belgium  28 Jul 2024   LewisHamiltonHAM   \n",
       "15     Netherlands  25 Aug 2024     LandoNorrisNOR   \n",
       "16           Italy  01 Sep 2024  CharlesLeclercLEC   \n",
       "17      Azerbaijan  15 Sep 2024    OscarPiastriPIA   \n",
       "18       Singapore  22 Sep 2024     LandoNorrisNOR   \n",
       "19   United States  20 Oct 2024  CharlesLeclercLEC   \n",
       "20          Mexico  27 Oct 2024     CarlosSainzSAI   \n",
       "21          Brazil  03 Nov 2024   MaxVerstappenVER   \n",
       "22       Las Vegas  23 Nov 2024   GeorgeRussellRUS   \n",
       "23           Qatar  01 Dec 2024   MaxVerstappenVER   \n",
       "24       Abu Dhabi  08 Dec 2024     LandoNorrisNOR   \n",
       "\n",
       "                           Car Laps         Time  \n",
       "0             McLaren Mercedes   58  1:26:33.291  \n",
       "1   Red Bull Racing Honda RBPT   57  1:31:44.742  \n",
       "2   Red Bull Racing Honda RBPT   50  1:20:43.273  \n",
       "3                      Ferrari   58  1:20:26.843  \n",
       "4   Red Bull Racing Honda RBPT   53  1:54:23.566  \n",
       "5   Red Bull Racing Honda RBPT   56  1:40:52.554  \n",
       "6             McLaren Mercedes   57  1:30:49.876  \n",
       "7   Red Bull Racing Honda RBPT   63  1:25:25.252  \n",
       "8                      Ferrari   78  2:23:15.554  \n",
       "9   Red Bull Racing Honda RBPT   70  1:45:47.927  \n",
       "10  Red Bull Racing Honda RBPT   66  1:28:20.227  \n",
       "11                    Mercedes   71  1:24:22.798  \n",
       "12                    Mercedes   52  1:22:27.059  \n",
       "13            McLaren Mercedes   70  1:38:01.989  \n",
       "14                    Mercedes   44  1:19:57.566  \n",
       "15            McLaren Mercedes   72  1:30:45.519  \n",
       "16                     Ferrari   53  1:14:40.727  \n",
       "17            McLaren Mercedes   51  1:32:58.007  \n",
       "18            McLaren Mercedes   62  1:40:52.571  \n",
       "19                     Ferrari   56  1:35:09.639  \n",
       "20                     Ferrari   71  1:40:55.800  \n",
       "21  Red Bull Racing Honda RBPT   69  2:06:54.430  \n",
       "22                    Mercedes   50  1:22:05.969  \n",
       "23  Red Bull Racing Honda RBPT   57  1:31:05.323  \n",
       "24            McLaren Mercedes   58  1:26:33.291  "
      ]
     },
     "execution_count": 54,
     "metadata": {},
     "output_type": "execute_result"
    }
   ],
   "source": [
    "df"
   ]
  },
  {
   "cell_type": "code",
   "execution_count": 57,
   "id": "0ba0379c-8f97-421a-b9db-67c66bbd6cad",
   "metadata": {},
   "outputs": [],
   "source": [
    "df.to_csv(r'C:\\Users\\Aakash\\Downloads\\webscrapting\\F1 2024 Race results.csv', index = False)"
   ]
  },
  {
   "cell_type": "code",
   "execution_count": null,
   "id": "fac2f52c-247a-438c-aa59-ee1be2d3eb85",
   "metadata": {},
   "outputs": [],
   "source": []
  }
 ],
 "metadata": {
  "kernelspec": {
   "display_name": "Python 3 (ipykernel)",
   "language": "python",
   "name": "python3"
  },
  "language_info": {
   "codemirror_mode": {
    "name": "ipython",
    "version": 3
   },
   "file_extension": ".py",
   "mimetype": "text/x-python",
   "name": "python",
   "nbconvert_exporter": "python",
   "pygments_lexer": "ipython3",
   "version": "3.11.7"
  }
 },
 "nbformat": 4,
 "nbformat_minor": 5
}
